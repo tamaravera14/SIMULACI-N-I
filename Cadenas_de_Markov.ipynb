{
  "nbformat": 4,
  "nbformat_minor": 0,
  "metadata": {
    "colab": {
      "provenance": [],
      "authorship_tag": "ABX9TyOEnrEBlXgU2Ac3VETe592O",
      "include_colab_link": true
    },
    "kernelspec": {
      "name": "python3",
      "display_name": "Python 3"
    },
    "language_info": {
      "name": "python"
    }
  },
  "cells": [
    {
      "cell_type": "markdown",
      "metadata": {
        "id": "view-in-github",
        "colab_type": "text"
      },
      "source": [
        "<a href=\"https://colab.research.google.com/github/tamaravera14/SIMULACI-N-I/blob/main/Cadenas_de_Markov.ipynb\" target=\"_parent\"><img src=\"https://colab.research.google.com/assets/colab-badge.svg\" alt=\"Open In Colab\"/></a>"
      ]
    },
    {
      "cell_type": "markdown",
      "source": [
        "# ***Tablero de colores***\n",
        "\n",
        "---\n",
        "\n",
        "Bazaldua Vera Tamara Alheli\n",
        "\n",
        "---"
      ],
      "metadata": {
        "id": "2BOBO0gmk_Gb"
      }
    },
    {
      "cell_type": "markdown",
      "source": [
        "## **PROBABILIDAD TOTAL**"
      ],
      "metadata": {
        "id": "ARGTxdoUD-HH"
      }
    },
    {
      "cell_type": "markdown",
      "source": [
        "## Simulación de lanzamiento de dos monedas\n",
        "![circ.png](data:image/png;base64,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)\n",
        "*Supongamos que tenemos en un tablero con cuatro sectores. Lanzamos dos monedas y avanzamos, en sentido horario, el número de caras que aparezcan. Si repetimos el procedimiento….*\n",
        "\n",
        "**¿Son todos los sectores igual de probables cuando pase mucho tiempo?**"
      ],
      "metadata": {
        "id": "kNyZylUy0q8z"
      }
    },
    {
      "cell_type": "markdown",
      "source": [
        "***Solución Analítica.***"
      ],
      "metadata": {
        "id": "bkJnxO3rcUcX"
      }
    },
    {
      "cell_type": "markdown",
      "source": [
        "# **Descripción del experimento**\n",
        "\n",
        "La **variable de estado** es la posición de la ficha:**verde, naranja, azul, rojo.**\n",
        "\n",
        "Las posibles salidas de las monedas son:\n",
        "\n",
        "$CC, CX, XC, XX \\Rightarrow$ todas con probabilidad  $\\frac{1}{4}$\n",
        "\n",
        "\n",
        "Denotamos:\n",
        "\n",
        "* $x_n$: probabilidad del sector naranja tras $n$ lanzamientos.\n",
        "* $y_n$: probabilidad del sector azul tras $n$ lanzamientos.\n",
        "* $z_n$: probabilidad del sector verde tras $n$ lanzamientos.\n",
        "* $t_n$: probabilidad del sector rojo tras $n$ lanzamientos.\n",
        "\n",
        "## **Cálculo de probabilidades usando el Teorema de la Probabilidad Total**\n",
        "\n",
        "### Ecuaciones de transición basadas en el teorema de la probabilidad total $(n=1)$\n",
        "\n",
        "1. $x_1:$ probabilidad de estar en naranja tras un paso\n",
        "   * $x_1 = \\frac{1}{4}x_0 + 0 \\cdot y_0 + \\frac{1}{4}z_0 + \\frac{1}{2}t_0$\n",
        "\n",
        "2. $y_1:$ probabilidad de estar en azul tras un paso\n",
        "  * $y_1 = \\frac{1}{2}x_0 + \\frac{1}{4}y_0 + 0 \\cdot z_0 + \\frac{1}{4}t_0$\n",
        "\n",
        "3. $z_1:$ probabilidad de estar en verde tras un paso\n",
        "  * $z_1 = \\frac{1}{4}x_0 + \\frac{1}{2}y_0 +\\frac{1}{4}z_0 + 0 \\cdot t_0$\n",
        "\n",
        "4. $t_1:$ probabilidad de estar en rojo tras un paso\n",
        "  * $t_1 = 0 \\cdot x_0 + \\frac{1}{4}y_0 + \\frac{1}{2}z_0 + \\frac{1}{4}t_0$\n",
        "\n",
        "\n",
        "**Nota:**\n",
        "Estas expresiones surgen al aplicar el Teorema de la Probabilidad Total:\n",
        "\n",
        "$\n",
        "P(A) = P(A \\mid B_1)P(B_1) + P(A \\mid B_2)P(B_2) + \\dots + P(A \\mid B_n)P(B_n)\n",
        "$\n",
        "\n"
      ],
      "metadata": {
        "id": "U-Bw_WXOcVwl"
      }
    },
    {
      "cell_type": "markdown",
      "source": [
        "## ***Modelo de Transición Estocástico***\n",
        "\n",
        "Análogamente para $( n = 2 )$ se continúa el proceso utilizando los valores obtenidos de $( x_1, y_1, z_1, t_1 )$\n",
        "\n",
        "En general, el sistema de probabilidades se expresa matricialmente como:\n",
        "\n",
        "$$\n",
        "\\begin{pmatrix}\n",
        "x_n \\\\\n",
        "y_n \\\\\n",
        "z_n \\\\\n",
        "t_n\n",
        "\\end{pmatrix}\n",
        "=\n",
        "\\begin{pmatrix}\n",
        "\\frac{1}{4} & 0 & \\frac{1}{4} & \\frac{2}{4} \\\\\n",
        "\\frac{1}{2} & \\frac{1}{4} & 0 & \\frac{1}{4} \\\\\n",
        "\\frac{1}{4} & \\frac{1}{2} & \\frac{1}{4} & 0 \\\\\n",
        "0 & \\frac{1}{4} & \\frac{1}{2} & \\frac{1}{4}\n",
        "\\end{pmatrix}\n",
        "\\begin{pmatrix}\n",
        "x_{n-1} \\\\\n",
        "y_{n-1} \\\\\n",
        "z_{n-1} \\\\\n",
        "t_{n-1}\n",
        "\\end{pmatrix}\n",
        "$$\n",
        "\n",
        "Denotando:\n",
        "\n",
        "$$\n",
        "\\mathbf{x}_n = A \\mathbf{x}_{n-1}\n",
        "\\quad \\Rightarrow \\quad\n",
        "\\mathbf{x}_n = A^n \\mathbf{x}_0\n",
        "$$\n",
        "\n",
        "Para resolver el problema debemos calcular $( A^n ).$"
      ],
      "metadata": {
        "id": "AUlWco1Gd75J"
      }
    },
    {
      "cell_type": "markdown",
      "source": [
        "---\n",
        "\n",
        "# ***Solución Analítica:***\n",
        "\n",
        "---"
      ],
      "metadata": {
        "id": "f8g4mVi0hRS4"
      }
    },
    {
      "cell_type": "markdown",
      "source": [
        "### ***Problema:***\n",
        "\n",
        "Supongamos que tenemos un tablero con cuatro sectores. Lanzamos dos monedas y avanzamos, en sentido horario, el número de caras que aparezcan. Queremos saber:\n",
        "\n",
        "$$\\textit{¿Son todos los sectores igual de probables cuando pase mucho tiempo?}$$\n",
        "\n",
        "**Matriz de transición**\n",
        "\n",
        "$$\n",
        "A =\n",
        "\\begin{pmatrix}\n",
        "\\frac{1}{4} & 0 & \\frac{1}{4} & \\frac{2}{4} \\\\\n",
        "\\frac{1}{2} & \\frac{1}{4} & 0 & \\frac{1}{4} \\\\\n",
        "\\frac{1}{4} & \\frac{1}{2} & \\frac{1}{4} & 0 \\\\\n",
        "0 & \\frac{1}{4} & \\frac{1}{2} & \\frac{1}{4}\n",
        "\\end{pmatrix}\n",
        "$$\n",
        "\n",
        "**Distribución estacionaria**\n",
        "\n",
        "Buscamos la solución al sistema:\n",
        "\n",
        "$$\n",
        "\\begin{cases}\n",
        "x_n = \\frac{1}{4}x_n + \\frac{1}{2}y_n + \\frac{1}{4}z_n \\\\\n",
        "y_n = \\frac{1}{4}y_n + \\frac{1}{2}z_n + \\frac{1}{4}t_n \\\\\n",
        "z_n = \\frac{1}{4}x_n + \\frac{1}{4}z_n + \\frac{1}{2}t_n \\\\\n",
        "t_n = \\frac{1}{2}x_n + \\frac{1}{4}y_n + \\frac{1}{4}t_n \\\\\n",
        "x_n + y_n + z_n + t_n = 1\n",
        "\\end{cases}\n",
        "$$\n",
        "\n",
        "**Solución:**\n",
        "\n",
        "Resolviendo el sistema anterior, se obtiene:\n",
        "\n",
        "$$\n",
        "x_n = y_n = z_n = t_n = \\frac{1}{4}\n",
        "$$\n",
        "\n",
        "Todos los sectores son igual de probables cuando pasa mucho tiempo:\n",
        "\n",
        "$$\n",
        "\\boxed{\n",
        "x_n = y_n = z_n = t_n = \\frac{1}{4}\n",
        "}\n",
        "$$"
      ],
      "metadata": {
        "id": "15uX_Qg1hWEd"
      }
    },
    {
      "cell_type": "markdown",
      "source": [
        "---\n",
        "\n",
        "# ***Solución con simulación:***\n",
        "\n",
        "---"
      ],
      "metadata": {
        "id": "ajtR2O65iJ8g"
      }
    },
    {
      "cell_type": "code",
      "execution_count": 2,
      "metadata": {
        "id": "e3OE5L9-C1c7"
      },
      "outputs": [],
      "source": [
        "import random\n",
        "import matplotlib.pyplot as plt\n",
        "import numpy as np"
      ]
    },
    {
      "cell_type": "markdown",
      "source": [
        "1 := Cara\n",
        "\n",
        "0 := Cruz"
      ],
      "metadata": {
        "id": "AFSmn6USE8XP"
      }
    },
    {
      "cell_type": "markdown",
      "source": [
        "---\n",
        "\n",
        "Para simular el avance en un tablero con 4 sectores (Naranja, Azul, Verde y Rojo), se realiza el lanzamiento de dos monedas. En nuestra simulación, representamos cada lanzamiento con un número aleatorio:\n",
        "\n",
        "*  $1$: Cara\n",
        "*  $0$: Cruz\n",
        "\n",
        "Donde **M1** y **M2** representan los resultados de las dos monedas. La suma **M1 + M2** devuelve el número total de caras obtenidas, lo cual determina el número de pasos que se avanzará en el tablero.\n",
        "\n",
        "Tabla de posibles resultados\n",
        "\n",
        "|**Moneda 1 (M1)**|**Moneda 2 (M2)**|**Pasos (M1 + M2)**|\n",
        "|-----------------|-----------------|-------------------|\n",
        "|     0 (Cruz)    |     0 (Cruz)    |         0         |\n",
        "|     0 (Cruz)    |     1 (Cara)    |         1         |\n",
        "|     1 (Cara)    |     0 (Cruz)    |         1         |\n",
        "|     1 (Cara)    |     1 (Cara)    |         2         |\n",
        "\n",
        "\n",
        "**Interpretación**\n",
        "\n",
        "Cada vez que se realiza el experimento, se determina el número de pasos a avanzar en el tablero en sentido horario, dependiendo de la cantidad de caras obtenidas. Este valor puede ser 0, 1 o 2.\n",
        "\n",
        "---\n",
        "\n",
        "La función **lanzar_monedas()** se define como:"
      ],
      "metadata": {
        "id": "Oxar5XWI0W-M"
      }
    },
    {
      "cell_type": "code",
      "source": [
        "def lanzar_monedas():\n",
        "    M1 = random.randint(0, 1)\n",
        "    M2 = random.randint(0, 1)\n",
        "    return M1 + M2  # Número de caras (saltos)"
      ],
      "metadata": {
        "id": "NtXh9HlcuuV_"
      },
      "execution_count": 3,
      "outputs": []
    },
    {
      "cell_type": "markdown",
      "source": [
        "**Función simular_movimiento_dicc(n)**\n",
        "\n",
        "Esta función simula el movimiento aleatorio de una ficha sobre un tablero circular de 4 sectores (colores), donde el número de pasos en cada turno se determina mediante el lanzamiento de dos monedas.\n",
        "\n",
        "**Objetivo**\n",
        "\n",
        "Simular $n$ movimientos sobre un tablero circular de 4 sectores y contar cuántas veces se visita cada uno.\n",
        "Devuelve un diccionario con la cantidad de visitas a cada sector tras $n$ movimientos.\n",
        "\n",
        "**Simbología**\n",
        "\n",
        "* 0 := Naranja\n",
        "* 1 := Azul\n",
        "* 2 := Verde\n",
        "* 3 := Rojo"
      ],
      "metadata": {
        "id": "jYsxFp7o231Q"
      }
    },
    {
      "cell_type": "code",
      "source": [
        "def simular_movimiento_dicc(n):\n",
        "    # Diccionario que asigna un color a cada posición del tablero\n",
        "    sectores = {0: 'Naranja', 1: 'Azul', 2: 'Verde', 3: 'Rojo'}\n",
        "\n",
        "    # Inicializa un diccionario para contar cuántas veces cae en cada color\n",
        "    conteo = {color: 0 for color in sectores.values()}\n",
        "\n",
        "    # Se comienza en la posición 0, que corresponde al color Naranja\n",
        "    posicion = 0\n",
        "\n",
        "    # Repite el experimento n veces\n",
        "    for _ in range(n):\n",
        "        # Lanza dos monedas y obtiene el número de pasos a avanzar (0, 1 o 2)\n",
        "        pasos = lanzar_monedas()\n",
        "        # Actualiza la posición sumando los pasos y aplicando módulo 4 para mantener el ciclo\n",
        "        posicion = (posicion + pasos) % 4\n",
        "        # Obtiene el color correspondiente a la nueva posición\n",
        "        color_actual = sectores[posicion]\n",
        "        # Incrementa en 1 el conteo del color actual\n",
        "        conteo[color_actual] += 1\n",
        "\n",
        "    # Devuelve el diccionario con la cantidad de visitas por color\n",
        "    return conteo"
      ],
      "metadata": {
        "id": "paStnMIiux2V"
      },
      "execution_count": 4,
      "outputs": []
    },
    {
      "cell_type": "markdown",
      "source": [
        "**Función simular_movimiento_dicc(n)**\n",
        "\n",
        "Simula el experimento **n** veces para generar una proporción y probabilidad de cuántas veces se aterriza en cada uno de los colores del tablero (Naranja, Azul, Verde y Rojo).\n",
        "\n",
        "En cada iteración, se lanza un par de monedas para determinar el número de pasos a avanzar, y se registra el color en el que se aterriza. La función cuenta las visitas a cada sector mediante un diccionario y devuelve el total de visitas por color."
      ],
      "metadata": {
        "id": "TP_92OQ23cjA"
      }
    },
    {
      "cell_type": "code",
      "source": [
        "def experimento(n):\n",
        "    # Llama a la función que simula el movimiento y obtiene el conteo caidas por color\n",
        "    conteo = simular_movimiento_dicc(n)\n",
        "\n",
        "    # Diccionario para guardar las proporciones de cada color\n",
        "    proporciones = {}\n",
        "\n",
        "    # Imprime encabezado de resultados\n",
        "    print(\"Resultados del experimento:\\n\")\n",
        "\n",
        "    # Recorre cada color y su cantidad de visitas\n",
        "    for color, cantidad in conteo.items():\n",
        "        # Calcula la proporción dividiendo la cantidad de visitas entre el total de intentos\n",
        "        proporción = cantidad / n\n",
        "        # Guarda la proporción en el diccionario\n",
        "        proporciones[color] = proporción\n",
        "        # Imprime el número de visitas\n",
        "        print(f\"{color}: {cantidad} veces\")\n",
        "        # Imprime la proporción con 4 decimales\n",
        "        print(f\"Proporción: {proporción:.4f}\\n\")\n",
        "\n",
        "    # Devuelve las proporciones y el conteo total\n",
        "    return proporciones, conteo\n"
      ],
      "metadata": {
        "id": "MOZYTljIuzyF"
      },
      "execution_count": 5,
      "outputs": []
    },
    {
      "cell_type": "code",
      "source": [
        "# Ejecutar experimento\n",
        "n = 100000\n",
        "proporciones, conteo = experimento(n)\n"
      ],
      "metadata": {
        "colab": {
          "base_uri": "https://localhost:8080/"
        },
        "id": "iXnEkDLWxjpN",
        "outputId": "a868cb40-4de3-4241-8017-a5dba5f1b963"
      },
      "execution_count": 6,
      "outputs": [
        {
          "output_type": "stream",
          "name": "stdout",
          "text": [
            "Resultados del experimento:\n",
            "\n",
            "Naranja: 24979 veces\n",
            "Proporción: 0.2498\n",
            "\n",
            "Azul: 25132 veces\n",
            "Proporción: 0.2513\n",
            "\n",
            "Verde: 24911 veces\n",
            "Proporción: 0.2491\n",
            "\n",
            "Rojo: 24978 veces\n",
            "Proporción: 0.2498\n",
            "\n"
          ]
        }
      ]
    },
    {
      "cell_type": "code",
      "source": [
        "# Gráfica (fuera de la función)\n",
        "plt.bar(conteo.keys(), conteo.values(), color=['orange', 'blue', 'green', 'red'])\n",
        "plt.title(\"Frecuencia de visita a cada sector\")\n",
        "plt.ylabel(\"Número de visitas\")\n",
        "plt.xlabel(\"Sector\")\n",
        "plt.show()"
      ],
      "metadata": {
        "colab": {
          "base_uri": "https://localhost:8080/",
          "height": 472
        },
        "id": "PGBGypP6u2aH",
        "outputId": "f3919eac-5bfc-48b2-b132-6f8c9f5e0904"
      },
      "execution_count": 7,
      "outputs": [
        {
          "output_type": "display_data",
          "data": {
            "text/plain": [
              "<Figure size 640x480 with 1 Axes>"
            ],
            "image/png": "[encoded data removed]"
          },
          "metadata": {}
        }
      ]
    },
    {
      "cell_type": "code",
      "source": [
        "# Lista de sectores y sus probabilidades (frecuencias relativas)\n",
        "sectores = list(conteo.keys())\n",
        "probabilidades = [conteo[sector] / n for sector in sectores]\n",
        "\n",
        "# Gráfica de barras con probabilidades\n",
        "plt.bar(sectores, probabilidades, color=['orange', 'blue', 'green', 'red'])\n",
        "\n",
        "# Líneas y etiquetas\n",
        "plt.ylim(0, 1)\n",
        "plt.axhline(0.25, color='black', linestyle='--', label='Esperado: 0.25')\n",
        "plt.title(\"Probabilidades por Sector (Frecuencia Relativa)\")\n",
        "plt.ylabel(\"Probabilidad\")\n",
        "plt.xlabel(\"Sector\")\n",
        "plt.legend()\n",
        "plt.show()\n"
      ],
      "metadata": {
        "colab": {
          "base_uri": "https://localhost:8080/",
          "height": 472
        },
        "id": "SNI7oYEhkoqc",
        "outputId": "b5f06681-4733-4e4f-ad6a-000d17043b50"
      },
      "execution_count": 20,
      "outputs": [
        {
          "output_type": "display_data",
          "data": {
            "text/plain": [
              "<Figure size 640x480 with 1 Axes>"
            ],
            "image/png": "[encoded data removed]"
          },
          "metadata": {}
        }
      ]
    },
    {
      "cell_type": "markdown",
      "source": [
        "Todos los sectores son igual de probables cuando pasa mucho tiempo:\n",
        "\n",
        "$$\n",
        "\\boxed{\n",
        "x_n ≈ y_n ≈ z_n ≈ t_n ≈ \\frac{1}{4}\n",
        "}\n",
        "$$"
      ],
      "metadata": {
        "id": "nib_dXGriSiT"
      }
    }
  ]
}