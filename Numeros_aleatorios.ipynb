{
  "nbformat": 4,
  "nbformat_minor": 0,
  "metadata": {
    "colab": {
      "provenance": [],
      "authorship_tag": "ABX9TyO1weGICftvUssB2Ev4rtTD",
      "include_colab_link": true
    },
    "kernelspec": {
      "name": "python3",
      "display_name": "Python 3"
    },
    "language_info": {
      "name": "python"
    }
  },
  "cells": [
    {
      "cell_type": "markdown",
      "metadata": {
        "id": "view-in-github",
        "colab_type": "text"
      },
      "source": [
        "<a href=\"https://colab.research.google.com/github/tamaravera14/SIMULACI-N-I/blob/main/Numeros_aleatorios.ipynb\" target=\"_parent\"><img src=\"https://colab.research.google.com/assets/colab-badge.svg\" alt=\"Open In Colab\"/></a>"
      ]
    },
    {
      "cell_type": "code",
      "source": [
        "from tabulate import tabulate\n",
        "n=25\n",
        "def generador(a,c,m,x0):\n",
        "    x = (a*x0+c)%m\n",
        "    return x\n",
        "x=[]\n",
        "xn=[0 for i in range(25)]\n",
        "a = 1\n",
        "c = 27\n",
        "m = 22\n",
        "x0=3\n",
        "\n",
        "for i in range(0, n):\n",
        "        xn[i] = generador(a,c,m,x0)\n",
        "        x.append([i,x0,xn[i-1]/m])\n",
        "        x0=xn[i]\n",
        "encabezados = [\"n\", \"Xn\", \"Xn/m\"]\n",
        "print(tabulate(x, headers=encabezados, tablefmt=\"grid\"))"
      ],
      "metadata": {
        "colab": {
          "base_uri": "https://localhost:8080/"
        },
        "id": "0sfQ1nXohkzS",
        "outputId": "5d69ef46-46e1-43cb-d24f-8d332d5635a9"
      },
      "execution_count": 82,
      "outputs": [
        {
          "output_type": "stream",
          "name": "stdout",
          "text": [
            "+-----+------+-----------+\n",
            "|   n |   Xn |      Xn/m |\n",
            "+=====+======+===========+\n",
            "|   0 |    3 | 0         |\n",
            "+-----+------+-----------+\n",
            "|   1 |    8 | 0.363636  |\n",
            "+-----+------+-----------+\n",
            "|   2 |   13 | 0.590909  |\n",
            "+-----+------+-----------+\n",
            "|   3 |   18 | 0.818182  |\n",
            "+-----+------+-----------+\n",
            "|   4 |    1 | 0.0454545 |\n",
            "+-----+------+-----------+\n",
            "|   5 |    6 | 0.272727  |\n",
            "+-----+------+-----------+\n",
            "|   6 |   11 | 0.5       |\n",
            "+-----+------+-----------+\n",
            "|   7 |   16 | 0.727273  |\n",
            "+-----+------+-----------+\n",
            "|   8 |   21 | 0.954545  |\n",
            "+-----+------+-----------+\n",
            "|   9 |    4 | 0.181818  |\n",
            "+-----+------+-----------+\n",
            "|  10 |    9 | 0.409091  |\n",
            "+-----+------+-----------+\n",
            "|  11 |   14 | 0.636364  |\n",
            "+-----+------+-----------+\n",
            "|  12 |   19 | 0.863636  |\n",
            "+-----+------+-----------+\n",
            "|  13 |    2 | 0.0909091 |\n",
            "+-----+------+-----------+\n",
            "|  14 |    7 | 0.318182  |\n",
            "+-----+------+-----------+\n",
            "|  15 |   12 | 0.545455  |\n",
            "+-----+------+-----------+\n",
            "|  16 |   17 | 0.772727  |\n",
            "+-----+------+-----------+\n",
            "|  17 |    0 | 0         |\n",
            "+-----+------+-----------+\n",
            "|  18 |    5 | 0.227273  |\n",
            "+-----+------+-----------+\n",
            "|  19 |   10 | 0.454545  |\n",
            "+-----+------+-----------+\n",
            "|  20 |   15 | 0.681818  |\n",
            "+-----+------+-----------+\n",
            "|  21 |   20 | 0.909091  |\n",
            "+-----+------+-----------+\n",
            "|  22 |    3 | 0.136364  |\n",
            "+-----+------+-----------+\n",
            "|  23 |    8 | 0.363636  |\n",
            "+-----+------+-----------+\n",
            "|  24 |   13 | 0.590909  |\n",
            "+-----+------+-----------+\n"
          ]
        }
      ]
    },
    {
      "cell_type": "code",
      "source": [],
      "metadata": {
        "id": "TSEV5uSMcwCi"
      },
      "execution_count": null,
      "outputs": []
    }
  ]
}