{
  "nbformat": 4,
  "nbformat_minor": 0,
  "metadata": {
    "colab": {
      "provenance": [],
      "authorship_tag": "ABX9TyP8P345tbYBG4h7LknOeOhu",
      "include_colab_link": true
    },
    "kernelspec": {
      "name": "python3",
      "display_name": "Python 3"
    },
    "language_info": {
      "name": "python"
    }
  },
  "cells": [
    {
      "cell_type": "markdown",
      "metadata": {
        "id": "view-in-github",
        "colab_type": "text"
      },
      "source": [
        "<a href=\"https://colab.research.google.com/github/tamaravera14/SIMULACI-N-I/blob/main/Transformada_inversa_TABV.ipynb\" target=\"_parent\"><img src=\"https://colab.research.google.com/assets/colab-badge.svg\" alt=\"Open In Colab\"/></a>"
      ]
    },
    {
      "cell_type": "markdown",
      "source": [
        "# MÉTODO DE LA TRANSFORMADA INVERSA\n",
        "## DISTRIBUCIÓN TRIANGULAR\n",
        "### Tamara Alheli Bazaldua Vera"
      ],
      "metadata": {
        "id": "M73HcAJO_H5f"
      }
    },
    {
      "cell_type": "markdown",
      "source": [
        "---\n",
        "Es una distribución continua definida por tres parámetros:\n",
        "\n",
        "*  a: valor mínimo (inicio)\n",
        "\n",
        "*  b: moda (el valor más probable)\n",
        "\n",
        "*  c: valor máximo (fin)\n",
        "\n",
        "La forma de la distribución es triangular, con el pico en b.\n",
        "\n",
        "---"
      ],
      "metadata": {
        "id": "Kr62YaccBTnb"
      }
    },
    {
      "cell_type": "markdown",
      "source": [
        "---\n",
        "Pasos:\n",
        "1. Dado un $f(x)$ calculamos:\n",
        "$$F(x) = ∫_{-∞}^{x} {f(\\delta) d_{\\delta}}$$\n",
        "2. Suponer $R$ ~ $U(0,1)$ y resolver: $F(x) = R $ para obtener:\n",
        "$$ x = F^{-1}{(R)} $$\n",
        "---"
      ],
      "metadata": {
        "id": "GgHsoN7bG-8I"
      }
    },
    {
      "cell_type": "markdown",
      "source": [
        "---\n",
        "Con:\n",
        "$$\\mu_x = \\frac{a+b+c}{3}$$\n",
        "$$\\sigma_{x}^2 = \\frac{a^2+b^2+c^2-ab-ac-bc}{18}$$\n",
        "\n",
        "---"
      ],
      "metadata": {
        "id": "6q-A4K6CVTwt"
      }
    },
    {
      "cell_type": "markdown",
      "source": [
        "Sea la funcion:\n",
        "$$ f(x) =\n",
        "\\begin{cases}\n",
        "\\frac{2(x-a)}{(c-a)(b-a)} & \\text{si } a \\leq x \\leq b \\\\\n",
        "\\frac{2(c-x)}{(c-a)(b-c)} & \\text{si } b < x \\leq c\n",
        "\\end{cases} $$\n",
        "Calculando la $F(x)$, tenemos:\n",
        "$$ F(x) = \\begin{cases}\n",
        "\\frac{(x-a)^2}{(c-a)(b-a)} & \\text{si } a \\leq x \\leq b \\\\\n",
        "1 - \\frac{(c-x)^2}{(c-a)(b-c)} & \\text{si } b < x \\leq c\n",
        "\\end{cases} $$\n",
        "Calculando la inversa, tenemos:\n",
        "$$x = F^{-1}(x) = \\begin{cases}\n",
        "\\sqrt{R(c-a)(b-a)} +a & \\text{si } a \\leq R \\leq \\frac{b-a}{c-a} \\\\\n",
        "c - \\sqrt{(1-R)(c-a)(c-b)} & \\text{si } \\frac{b-a}{c-a} < R \\leq c\n",
        "\\end{cases} $$"
      ],
      "metadata": {
        "id": "C5Cx3lF_IPS6"
      }
    },
    {
      "cell_type": "code",
      "execution_count": null,
      "metadata": {
        "id": "w-ebGjfttw04"
      },
      "outputs": [],
      "source": [
        "import matplotlib.pyplot as plt\n",
        "import numpy as np\n",
        "import random\n",
        "import math\n",
        "import statistics"
      ]
    },
    {
      "cell_type": "code",
      "source": [
        "a=1\n",
        "b=3\n",
        "c=5\n",
        "mu = (a+b+c)/3\n",
        "sigma = ((a**2+b**2+c**2-a*b-a*c-b*c)/18)\n",
        "n = 10000"
      ],
      "metadata": {
        "id": "KeRWGqRNxAt1"
      },
      "execution_count": 52,
      "outputs": []
    },
    {
      "cell_type": "markdown",
      "source": [
        "**Aquí lo que se hizo fue primero asignar el valor a x y comparar los intervalos para ver en donde se encontraba para ver en donde asignar el valor de x.**\n"
      ],
      "metadata": {
        "id": "ItwYAtSRPUtH"
      }
    },
    {
      "cell_type": "code",
      "source": [
        "def triangularFx(n):\n",
        "  lista = []\n",
        "  for _ in range(n):\n",
        "    R = random.random()\n",
        "    x = math.sqrt(R*(c-a)*(b-a)) + a\n",
        "    if a <= x <= b:\n",
        "      lista.append(x)\n",
        "    else:\n",
        "      x = c - math.sqrt((1-R)*(c-a)*(c-b))\n",
        "      lista.append(x)\n",
        "\n",
        "  return lista"
      ],
      "metadata": {
        "id": "-BnhYCKUyqWE"
      },
      "execution_count": 53,
      "outputs": []
    },
    {
      "cell_type": "code",
      "source": [
        "tabla = triangularFx(n)"
      ],
      "metadata": {
        "id": "Ii6ebB0Cx6uf"
      },
      "execution_count": 54,
      "outputs": []
    },
    {
      "cell_type": "code",
      "source": [
        "plt.hist(tabla, bins=50)\n",
        "plt.show()"
      ],
      "metadata": {
        "colab": {
          "base_uri": "https://localhost:8080/",
          "height": 430
        },
        "id": "n5eXSjzJx_EC",
        "outputId": "13b7a691-6d38-4c85-891c-7ff5c7efac04"
      },
      "execution_count": 55,
      "outputs": [
        {
          "output_type": "display_data",
          "data": {
            "text/plain": [
              "<Figure size 640x480 with 1 Axes>"
            ],
            "image/png": "[encoded data removed]"
          },
          "metadata": {}
        }
      ]
    },
    {
      "cell_type": "code",
      "source": [
        "print(\"Media estimada: \", np.mean(tabla))\n",
        "print(\"Media exacta: \", mu)\n",
        "print(\"Error de media con respecto a la real:\", abs(mu-np.mean(tabla)))"
      ],
      "metadata": {
        "colab": {
          "base_uri": "https://localhost:8080/"
        },
        "id": "amv7xLssyD4l",
        "outputId": "12493a24-0307-4b14-ff64-24d2df2c441f"
      },
      "execution_count": 56,
      "outputs": [
        {
          "output_type": "stream",
          "name": "stdout",
          "text": [
            "Media estimada:  3.004384760834951\n",
            "Media exacta:  3.0\n",
            "Error de media con respecto a la real: 0.004384760834950985\n"
          ]
        }
      ]
    },
    {
      "cell_type": "code",
      "source": [
        "print(\"Varianza estimada: \", np.var(tabla))\n",
        "print(\"Varianza exacta: \", sigma)\n",
        "print(\"Error de varianza con respecto a la real:\", abs(sigma-np.var(tabla)))"
      ],
      "metadata": {
        "colab": {
          "base_uri": "https://localhost:8080/"
        },
        "id": "sOYPyCZ1URj5",
        "outputId": "98c3b3b3-c3fc-4300-96c6-797a247e5b68"
      },
      "execution_count": 57,
      "outputs": [
        {
          "output_type": "stream",
          "name": "stdout",
          "text": [
            "Varianza estimada:  0.6678226556955558\n",
            "Varianza exacta:  0.6666666666666666\n",
            "Error de varianza con respecto a la real: 0.0011559890288891372\n"
          ]
        }
      ]
    },
    {
      "cell_type": "code",
      "source": [
        "print(\"Periodo de aceptacion: \", len(tabla), \"de\", n)"
      ],
      "metadata": {
        "colab": {
          "base_uri": "https://localhost:8080/"
        },
        "id": "k6PUZc2hUZdX",
        "outputId": "7fac49cd-581d-4f75-dcc1-120d77077d6a"
      },
      "execution_count": 58,
      "outputs": [
        {
          "output_type": "stream",
          "name": "stdout",
          "text": [
            "Periodo de aceptacion:  10000 de 10000\n"
          ]
        }
      ]
    },
    {
      "cell_type": "markdown",
      "source": [
        "**Aqui se genera el R aleatorio y se hace la comparativa con los intervalos de R.**"
      ],
      "metadata": {
        "id": "axsTSIPnQ7W6"
      }
    },
    {
      "cell_type": "code",
      "source": [
        "def triangularFR(n):\n",
        "  lista = []\n",
        "  for _ in range(n):\n",
        "    R = random.random()\n",
        "    F = (b-a) / (c-a)\n",
        "    if R <= F:\n",
        "      lista.append(math.sqrt(R*(c-a)*(b-a)) + a)\n",
        "    else:\n",
        "      lista.append(c - math.sqrt((1-R)*(c-a)*(c-b)))\n",
        "\n",
        "  return lista"
      ],
      "metadata": {
        "id": "1QO6HPyJ8T2Y"
      },
      "execution_count": 59,
      "outputs": []
    },
    {
      "cell_type": "code",
      "source": [
        "Fr = triangularFR(n)"
      ],
      "metadata": {
        "id": "XVNg8gN78ozf"
      },
      "execution_count": 60,
      "outputs": []
    },
    {
      "cell_type": "code",
      "source": [
        "plt.hist(Fr, bins=100)\n",
        "plt.show()"
      ],
      "metadata": {
        "colab": {
          "base_uri": "https://localhost:8080/",
          "height": 430
        },
        "id": "pol-jrCw88UH",
        "outputId": "64c782d1-2b52-42e9-aaaa-b32f7586a892"
      },
      "execution_count": 61,
      "outputs": [
        {
          "output_type": "display_data",
          "data": {
            "text/plain": [
              "<Figure size 640x480 with 1 Axes>"
            ],
            "image/png": "[encoded data removed]"
          },
          "metadata": {}
        }
      ]
    },
    {
      "cell_type": "code",
      "source": [
        "print(\"Media estimada: \", np.mean(Fr))\n",
        "print(\"Media exacta: \", mu)\n",
        "print(\"Error de media con respecto a la real:\", abs(mu-np.mean(Fr)))"
      ],
      "metadata": {
        "colab": {
          "base_uri": "https://localhost:8080/"
        },
        "id": "EzPDtXZN9uYm",
        "outputId": "fbaa75c5-f259-4173-a464-13c557bc6b0d"
      },
      "execution_count": 62,
      "outputs": [
        {
          "output_type": "stream",
          "name": "stdout",
          "text": [
            "Media estimada:  2.9850531144354804\n",
            "Media exacta:  3.0\n",
            "Error de media con respecto a la real: 0.014946885564519619\n"
          ]
        }
      ]
    },
    {
      "cell_type": "code",
      "source": [
        "print(\"Varianza estimada: \", np.var(Fr))\n",
        "print(\"Varianza exacta: \", sigma)\n",
        "print(\"Error de varianza con respecto a la real:\", abs(sigma-np.var(Fr)))"
      ],
      "metadata": {
        "colab": {
          "base_uri": "https://localhost:8080/"
        },
        "id": "mofbgNeJSW7u",
        "outputId": "e112b62c-c126-4d90-e49f-e3865b4c04b5"
      },
      "execution_count": 63,
      "outputs": [
        {
          "output_type": "stream",
          "name": "stdout",
          "text": [
            "Varianza estimada:  0.6616881477323807\n",
            "Varianza exacta:  0.6666666666666666\n",
            "Error de varianza con respecto a la real: 0.004978518934285914\n"
          ]
        }
      ]
    },
    {
      "cell_type": "code",
      "source": [
        "print(\"Periodo de aceptacion: \", len(Fr), \"de\", n)"
      ],
      "metadata": {
        "colab": {
          "base_uri": "https://localhost:8080/"
        },
        "id": "-wQaYmNaTPFv",
        "outputId": "b5a04ebd-9d20-4cf3-df39-e8566166bb56"
      },
      "execution_count": 64,
      "outputs": [
        {
          "output_type": "stream",
          "name": "stdout",
          "text": [
            "Periodo de aceptacion:  10000 de 10000\n"
          ]
        }
      ]
    },
    {
      "cell_type": "markdown",
      "source": [
        "### **Grafica de $ F(x) $ con valores normalizados**"
      ],
      "metadata": {
        "id": "Upsr4-xJRKb4"
      }
    },
    {
      "cell_type": "code",
      "source": [
        "F_norm = [ i / c for i in Fr]"
      ],
      "metadata": {
        "id": "rufs5rzGAXzG"
      },
      "execution_count": 65,
      "outputs": []
    },
    {
      "cell_type": "code",
      "source": [
        "F_x = np.sort(F_norm)\n",
        "plt.plot(F_x)\n",
        "plt.show()"
      ],
      "metadata": {
        "colab": {
          "base_uri": "https://localhost:8080/",
          "height": 430
        },
        "id": "EA6BluUh9DX0",
        "outputId": "a407fc67-e7dc-4cd7-842b-3e374a423a53"
      },
      "execution_count": 66,
      "outputs": [
        {
          "output_type": "display_data",
          "data": {
            "text/plain": [
              "<Figure size 640x480 with 1 Axes>"
            ],
            "image/png": "[encoded data removed]"
          },
          "metadata": {}
        }
      ]
    }
  ]
}