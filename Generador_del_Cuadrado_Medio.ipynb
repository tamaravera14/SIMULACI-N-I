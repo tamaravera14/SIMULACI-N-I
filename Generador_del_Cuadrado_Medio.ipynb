{
  "nbformat": 4,
  "nbformat_minor": 0,
  "metadata": {
    "colab": {
      "provenance": [],
      "authorship_tag": "ABX9TyPd/hbJAmkUeFKVpgUdC/Qb",
      "include_colab_link": true
    },
    "kernelspec": {
      "name": "python3",
      "display_name": "Python 3"
    },
    "language_info": {
      "name": "python"
    }
  },
  "cells": [
    {
      "cell_type": "markdown",
      "metadata": {
        "id": "view-in-github",
        "colab_type": "text"
      },
      "source": [
        "<a href=\"https://colab.research.google.com/github/tamaravera14/SIMULACI-N-I/blob/main/Generador_del_Cuadrado_Medio.ipynb\" target=\"_parent\"><img src=\"https://colab.research.google.com/assets/colab-badge.svg\" alt=\"Open In Colab\"/></a>"
      ]
    },
    {
      "cell_type": "markdown",
      "source": [
        "#**Generador del Cuadrado Medio**\n",
        "##Bazaldua Vera Tamara Alheli"
      ],
      "metadata": {
        "id": "8l10mpgJ7HEE"
      }
    },
    {
      "cell_type": "markdown",
      "source": [
        "---\n",
        "**El algoritmo**\n",
        "\n",
        "---\n",
        "\n",
        "\n",
        "1.   Se elige como valor semilla un número de más de 3 dígitos (t=cantidad de dígitos del valor semilla)\n",
        "2.   Se eleva ese número al cuadrado.\n",
        "3.   Al valor que resultó, seleccione los t dígitos de en medio (si se requiere, utilice un 0 como primer dígito).\n",
        "4.   Repetir desde el paso número 2 tomando éste nuevo número."
      ],
      "metadata": {
        "id": "C1GzgxQx7aIp"
      }
    },
    {
      "cell_type": "markdown",
      "source": [
        "---\n",
        "##**Variables**\n",
        "\n",
        "---\n",
        "\n",
        "* tam1 = len(semilla) Extrae la cantidad de dígitos del valor semilla\n",
        "* numero1 = int(semilla) Convierte el valor semilla a formato numérico entero\n",
        "* for i in range(n):   Para producir **n** números pseudo aleatorios.\n",
        "* numero2 = numero1^2 eleva el valor semilla al cuadrado\n",
        "* snumero2 = str(numero2) Convierte el valor que está elevado al cuadrado, en cadena de caracteres.\n",
        "* tam2 = len(snumero2) Cuenta la cantidad de dígitos que tiene el valor elevado al cuadrado\n",
        "* primerc = int((tam2 – tam1) / 2) Calcula cuál será el primer carácter a extraer.\n",
        "* snumero3 = snumero2[primerc:primerc+tam1] Extrae n caracteres (según halla sido la cantidad de dígitos que tenía el valor semilla)\n",
        "* numero1 = int(snumero3) Convierte el valor extraído en número para hacer de nuevo el proceso."
      ],
      "metadata": {
        "id": "cXSiU3lm8OSD"
      }
    },
    {
      "cell_type": "markdown",
      "source": [
        "##**Caracteristicas**\n",
        "1. El método de los cuadrados medios fue propuesto por John von Neumann y Nicholas Metropolis en los años 40.\n",
        "2. Es un método defectuoso para muchos propósitos prácticos.\n",
        "3. Su período suele ser muy corto **(lo cual es muy poco favorable)**.\n",
        "4. Puede generar repetidamente el mismo número o volver a un número anterior en la secuencia.\n",
        "5. Puede quedarse atascado en un número distinto de cero.\n",
        "6. Puede degenerarse si la semilla inicial contiene muchos ceros."
      ],
      "metadata": {
        "id": "-2khms6H-Ujj"
      }
    },
    {
      "cell_type": "markdown",
      "source": [
        "# Código que implementa el Generador del Cuadrado Medio e indica el Ciclo de Vida."
      ],
      "metadata": {
        "id": "jZmQIZx78rvC"
      }
    },
    {
      "cell_type": "code",
      "source": [
        "# PROGRAMAR EL GENERADOR DE CUADRADO MEDIO CON DETECCIÓN DEL CICLO DE VIDA Y COLAPSO A CERO\n",
        "from tabulate import tabulate\n",
        "\n",
        "semilla = str(1938) # Se solicita una semilla al usuario como entrada\n",
        "tam1 = len(semilla)  # Se obtiene la cantidad de dígitos de la semilla\n",
        "numero1 = int(semilla)  # Se convierte la semilla a un número entero\n",
        "tabla=[] # Almacena los datos a imprimir\n",
        "\n",
        "# Diccionario para rastrear iteraciones en las que aparecen los números\n",
        "datos = {}  # Diccionario que almacenará los números generados y la iteración en la que aparecieron\n",
        "\n",
        "# Variables de control\n",
        "ciclo_detectado = False  # Bandera para indicar si se ha detectado un ciclo\n",
        "iteracion_ciclo = None  # Almacena la iteración en la que comenzó el ciclo\n",
        "colapso_cero = None  # Almacena la iteración en la que el generador colapsa a 0 (si ocurre)\n",
        "\n",
        "# Generación de números pseudoaleatorios\n",
        "for i in range(100):  # Bucle con un máximo de 100 iteraciones para evitar ciclos infinitos\n",
        "    numero2 = numero1**2  # Se eleva al cuadrado el número actual\n",
        "    snumero2 = str(numero2).zfill(2 * tam1)  # Se convierte en cadena y se rellena con ceros a la izquierda para asegurar la longitud correcta\n",
        "    tam2 = len(snumero2)  # Se obtiene la nueva longitud del número al cuadrado\n",
        "    primerc = (tam2 - tam1) // 2  # Se calcula el índice inicial para extraer la parte central\n",
        "\n",
        "    snumero3 = snumero2[primerc:primerc + tam1]  # Se extraen los dígitos centrales del número cuadrado\n",
        "    norm_snumero3 = int(snumero3)/10000 # Numero normalizado\n",
        "\n",
        "    tabla.append([i ,numero1 ,numero2 ,snumero3 ,norm_snumero3])  # Agrega a la lista [\"i\", \"xi\", \"xi^2\" ,\"Digitos centrales\", \"Numero normalizado\"]\n",
        "\n",
        "    numero1 = int(snumero3)  # Se convierte la cadena extraída de nuevo a entero\n",
        "\n",
        "\n",
        "    # Detección de ciclos\n",
        "    if numero1 in datos:  # Si el número ya ha aparecido antes en el diccionario\n",
        "        iteracion_ciclo = datos[numero1]  # Se guarda la iteración en la que apareció por primera vez\n",
        "        ciclo_detectado = True  # Se activa la bandera indicando que se ha detectado un ciclo\n",
        "        break\n",
        "\n",
        "    elif numero1 == 0:  # Si el número generado es 0\n",
        "        colapso_cero = i  # Se guarda la iteración en la que colapsó a cero\n",
        "        break  # Se detiene la ejecución del bucle\n",
        "\n",
        "    else:\n",
        "        datos[numero1] = i  # Se registra el número generado y la iteración en la que apareció\n",
        "\n",
        "# Finalización y Reporte\n",
        "if ciclo_detectado:  # Si se detectó un ciclo\n",
        "    ciclo_de_vida = i - iteracion_ciclo  # Se calcula la duración del ciclo\n",
        "    print(f\" El ciclo de vida del generador fue de {ciclo_de_vida} iteraciones. \"\n",
        "          f\"\\n El número se generó en la iteración {iteracion_ciclo} y en la {i}\")  # Se informa sobre el ciclo detectado\n",
        "\n",
        "elif colapso_cero is not None:  # Si el generador colapsó a 0\n",
        "    print(f\"\\n ¡El generador colapsó a 0 en la iteración {colapso_cero}!\")  # Se informa en qué iteración ocurrió\n",
        "\n",
        "else:  # Si no se detectó un ciclo ni colapso a cero después de 100 iteraciones\n",
        "    print(\"\\n Se alcanzó el número máximo de iteraciones sin detectar un ciclo.\")  # Se informa que el generador alcanzó el límite de iteraciones\n",
        "\n",
        "# Mostrar tabla\n",
        "encabezados = [\"i\", \"xi\", \"xi^2\" ,\"Digitos centrales\", \"Numero normalizado\"]\n",
        "print(tabulate(tabla, headers=encabezados, tablefmt=\"grid\"))"
      ],
      "metadata": {
        "colab": {
          "base_uri": "https://localhost:8080/"
        },
        "id": "ZES31mPbwUeG",
        "outputId": "f6eda54f-639b-4a5e-e6e6-641411fe86b4"
      },
      "execution_count": 4,
      "outputs": [
        {
          "output_type": "stream",
          "name": "stdout",
          "text": [
            " El ciclo de vida del generador fue de 4 iteraciones. \n",
            " El número se generó en la iteración 49 y en la 53\n",
            "+-----+------+----------+---------------------+----------------------+\n",
            "|   i |   xi |     xi^2 |   Digitos centrales |   Numero normalizado |\n",
            "+=====+======+==========+=====================+======================+\n",
            "|   0 | 1938 |  3755844 |                7558 |               0.7558 |\n",
            "+-----+------+----------+---------------------+----------------------+\n",
            "|   1 | 7558 | 57123364 |                1233 |               0.1233 |\n",
            "+-----+------+----------+---------------------+----------------------+\n",
            "|   2 | 1233 |  1520289 |                5202 |               0.5202 |\n",
            "+-----+------+----------+---------------------+----------------------+\n",
            "|   3 | 5202 | 27060804 |                0608 |               0.0608 |\n",
            "+-----+------+----------+---------------------+----------------------+\n",
            "|   4 |  608 |   369664 |                3696 |               0.3696 |\n",
            "+-----+------+----------+---------------------+----------------------+\n",
            "|   5 | 3696 | 13660416 |                6604 |               0.6604 |\n",
            "+-----+------+----------+---------------------+----------------------+\n",
            "|   6 | 6604 | 43612816 |                6128 |               0.6128 |\n",
            "+-----+------+----------+---------------------+----------------------+\n",
            "|   7 | 6128 | 37552384 |                5523 |               0.5523 |\n",
            "+-----+------+----------+---------------------+----------------------+\n",
            "|   8 | 5523 | 30503529 |                5035 |               0.5035 |\n",
            "+-----+------+----------+---------------------+----------------------+\n",
            "|   9 | 5035 | 25351225 |                3512 |               0.3512 |\n",
            "+-----+------+----------+---------------------+----------------------+\n",
            "|  10 | 3512 | 12334144 |                3341 |               0.3341 |\n",
            "+-----+------+----------+---------------------+----------------------+\n",
            "|  11 | 3341 | 11162281 |                1622 |               0.1622 |\n",
            "+-----+------+----------+---------------------+----------------------+\n",
            "|  12 | 1622 |  2630884 |                6308 |               0.6308 |\n",
            "+-----+------+----------+---------------------+----------------------+\n",
            "|  13 | 6308 | 39790864 |                7908 |               0.7908 |\n",
            "+-----+------+----------+---------------------+----------------------+\n",
            "|  14 | 7908 | 62536464 |                5364 |               0.5364 |\n",
            "+-----+------+----------+---------------------+----------------------+\n",
            "|  15 | 5364 | 28772496 |                7724 |               0.7724 |\n",
            "+-----+------+----------+---------------------+----------------------+\n",
            "|  16 | 7724 | 59660176 |                6601 |               0.6601 |\n",
            "+-----+------+----------+---------------------+----------------------+\n",
            "|  17 | 6601 | 43573201 |                5732 |               0.5732 |\n",
            "+-----+------+----------+---------------------+----------------------+\n",
            "|  18 | 5732 | 32855824 |                8558 |               0.8558 |\n",
            "+-----+------+----------+---------------------+----------------------+\n",
            "|  19 | 8558 | 73239364 |                2393 |               0.2393 |\n",
            "+-----+------+----------+---------------------+----------------------+\n",
            "|  20 | 2393 |  5726449 |                7264 |               0.7264 |\n",
            "+-----+------+----------+---------------------+----------------------+\n",
            "|  21 | 7264 | 52765696 |                7656 |               0.7656 |\n",
            "+-----+------+----------+---------------------+----------------------+\n",
            "|  22 | 7656 | 58614336 |                6143 |               0.6143 |\n",
            "+-----+------+----------+---------------------+----------------------+\n",
            "|  23 | 6143 | 37736449 |                7364 |               0.7364 |\n",
            "+-----+------+----------+---------------------+----------------------+\n",
            "|  24 | 7364 | 54228496 |                2284 |               0.2284 |\n",
            "+-----+------+----------+---------------------+----------------------+\n",
            "|  25 | 2284 |  5216656 |                2166 |               0.2166 |\n",
            "+-----+------+----------+---------------------+----------------------+\n",
            "|  26 | 2166 |  4691556 |                6915 |               0.6915 |\n",
            "+-----+------+----------+---------------------+----------------------+\n",
            "|  27 | 6915 | 47817225 |                8172 |               0.8172 |\n",
            "+-----+------+----------+---------------------+----------------------+\n",
            "|  28 | 8172 | 66781584 |                7815 |               0.7815 |\n",
            "+-----+------+----------+---------------------+----------------------+\n",
            "|  29 | 7815 | 61074225 |                0742 |               0.0742 |\n",
            "+-----+------+----------+---------------------+----------------------+\n",
            "|  30 |  742 |   550564 |                5505 |               0.5505 |\n",
            "+-----+------+----------+---------------------+----------------------+\n",
            "|  31 | 5505 | 30305025 |                3050 |               0.305  |\n",
            "+-----+------+----------+---------------------+----------------------+\n",
            "|  32 | 3050 |  9302500 |                3025 |               0.3025 |\n",
            "+-----+------+----------+---------------------+----------------------+\n",
            "|  33 | 3025 |  9150625 |                1506 |               0.1506 |\n",
            "+-----+------+----------+---------------------+----------------------+\n",
            "|  34 | 1506 |  2268036 |                2680 |               0.268  |\n",
            "+-----+------+----------+---------------------+----------------------+\n",
            "|  35 | 2680 |  7182400 |                1824 |               0.1824 |\n",
            "+-----+------+----------+---------------------+----------------------+\n",
            "|  36 | 1824 |  3326976 |                3269 |               0.3269 |\n",
            "+-----+------+----------+---------------------+----------------------+\n",
            "|  37 | 3269 | 10686361 |                6863 |               0.6863 |\n",
            "+-----+------+----------+---------------------+----------------------+\n",
            "|  38 | 6863 | 47100769 |                1007 |               0.1007 |\n",
            "+-----+------+----------+---------------------+----------------------+\n",
            "|  39 | 1007 |  1014049 |                0140 |               0.014  |\n",
            "+-----+------+----------+---------------------+----------------------+\n",
            "|  40 |  140 |    19600 |                0196 |               0.0196 |\n",
            "+-----+------+----------+---------------------+----------------------+\n",
            "|  41 |  196 |    38416 |                0384 |               0.0384 |\n",
            "+-----+------+----------+---------------------+----------------------+\n",
            "|  42 |  384 |   147456 |                1474 |               0.1474 |\n",
            "+-----+------+----------+---------------------+----------------------+\n",
            "|  43 | 1474 |  2172676 |                1726 |               0.1726 |\n",
            "+-----+------+----------+---------------------+----------------------+\n",
            "|  44 | 1726 |  2979076 |                9790 |               0.979  |\n",
            "+-----+------+----------+---------------------+----------------------+\n",
            "|  45 | 9790 | 95844100 |                8441 |               0.8441 |\n",
            "+-----+------+----------+---------------------+----------------------+\n",
            "|  46 | 8441 | 71250481 |                2504 |               0.2504 |\n",
            "+-----+------+----------+---------------------+----------------------+\n",
            "|  47 | 2504 |  6270016 |                2700 |               0.27   |\n",
            "+-----+------+----------+---------------------+----------------------+\n",
            "|  48 | 2700 |  7290000 |                2900 |               0.29   |\n",
            "+-----+------+----------+---------------------+----------------------+\n",
            "|  49 | 2900 |  8410000 |                4100 |               0.41   |\n",
            "+-----+------+----------+---------------------+----------------------+\n",
            "|  50 | 4100 | 16810000 |                8100 |               0.81   |\n",
            "+-----+------+----------+---------------------+----------------------+\n",
            "|  51 | 8100 | 65610000 |                6100 |               0.61   |\n",
            "+-----+------+----------+---------------------+----------------------+\n",
            "|  52 | 6100 | 37210000 |                2100 |               0.21   |\n",
            "+-----+------+----------+---------------------+----------------------+\n",
            "|  53 | 2100 |  4410000 |                4100 |               0.41   |\n",
            "+-----+------+----------+---------------------+----------------------+\n"
          ]
        }
      ]
    },
    {
      "cell_type": "code",
      "source": [],
      "metadata": {
        "id": "wxOL4F21qpIm"
      },
      "execution_count": null,
      "outputs": []
    }
  ]
}