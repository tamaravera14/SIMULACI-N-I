{
  "nbformat": 4,
  "nbformat_minor": 0,
  "metadata": {
    "colab": {
      "provenance": [],
      "authorship_tag": "ABX9TyO8pu48IN9HkmJz3TYFD23n",
      "include_colab_link": true
    },
    "kernelspec": {
      "name": "python3",
      "display_name": "Python 3"
    },
    "language_info": {
      "name": "python"
    }
  },
  "cells": [
    {
      "cell_type": "markdown",
      "metadata": {
        "id": "view-in-github",
        "colab_type": "text"
      },
      "source": [
        "<a href=\"https://colab.research.google.com/github/tamaravera14/SIMULACI-N-I/blob/main/Untitled14.ipynb\" target=\"_parent\"><img src=\"https://colab.research.google.com/assets/colab-badge.svg\" alt=\"Open In Colab\"/></a>"
      ]
    },
    {
      "cell_type": "code",
      "execution_count": null,
      "metadata": {
        "id": "GSEeKgVtMNRG"
      },
      "outputs": [],
      "source": [
        "# prompt: Crea el código para fraficar una parábola\n",
        "\n",
        "import matplotlib.pyplot as plt\n",
        "import numpy as np\n",
        "\n",
        "# Definir la función de la parábola\n",
        "def parabola(x):\n",
        "  return x**2\n",
        "\n",
        "# Crear los valores de x\n",
        "x = np.linspace(-5, 5, 400)\n",
        "\n",
        "# Calcular los valores de y usando la función de la parábola\n",
        "y = parabola(x)\n",
        "\n",
        "\n",
        "# Crear la gráfica\n",
        "plt.plot(x, y)\n",
        "\n",
        "# Añadir etiquetas y título\n",
        "plt.xlabel(\"x\")\n",
        "plt.ylabel(\"y\")\n",
        "plt.title(\"Gráfica de una Parábola\")\n",
        "\n",
        "# Mostrar la gráfica\n",
        "plt.grid(True)\n",
        "plt.show()\n"
      ]
    }
  ]
}