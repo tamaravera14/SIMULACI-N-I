{
  "nbformat": 4,
  "nbformat_minor": 0,
  "metadata": {
    "colab": {
      "provenance": [],
      "authorship_tag": "ABX9TyOV4b+doX/8f19ptNlB5bBc",
      "include_colab_link": true
    },
    "kernelspec": {
      "name": "python3",
      "display_name": "Python 3"
    },
    "language_info": {
      "name": "python"
    }
  },
  "cells": [
    {
      "cell_type": "markdown",
      "metadata": {
        "id": "view-in-github",
        "colab_type": "text"
      },
      "source": [
        "<a href=\"https://colab.research.google.com/github/tamaravera14/SIMULACI-N-I/blob/main/Actividad10.ipynb\" target=\"_parent\"><img src=\"https://colab.research.google.com/assets/colab-badge.svg\" alt=\"Open In Colab\"/></a>"
      ]
    },
    {
      "cell_type": "markdown",
      "source": [
        "# **Actividad 10**\n",
        "---\n",
        "\n",
        "***Bazaldua Vera Tamara Alheli***\n",
        "\n",
        "---\n",
        "\n",
        "**Problema:** Dos personas han quedado citas en un determinado lugar. Ambas tienen la misma probabilidad de llegar al lugar de la cita en el intervalo de tiempo [0, 30] (minutos).\n",
        "Determínese la probabilidad de que el tiempo que una persona espere a la otra sea como máximo 10 minutos."
      ],
      "metadata": {
        "id": "bGdr5q6E8uW_"
      }
    },
    {
      "cell_type": "markdown",
      "source": [
        "Analíticamente:\n",
        "\n",
        "Sabemos que hay dos casos, paso uno o pasa otro.\n",
        "1. La persona uno llega antes que la persona dos y la diferencia de tiempos es menor igual a 10 minutos.\n",
        "$$P[(p_1 > p_2) \\cap (p_1 - p_2 \\preceq 10)]$$\n",
        "2. La persona uno llega antes que la persona dos y la diferencia de tiempos es menor igual a 10 minutos.\n",
        "$$P[(p_2 > p_1) \\cap (p_2 - p_1 \\preceq 10)]$$\n",
        "\n",
        "De modo que:\n",
        "\n",
        "$$P([(p_1 > p_2) \\cap (p_1 - p_2 \\preceq 10)] \\cup [(p_2 > p_1) \\cap (p_2 - p_1 \\preceq 10)]) = \\frac{5}{9}$$"
      ],
      "metadata": {
        "id": "Dmg3R5tf-4Ci"
      }
    },
    {
      "cell_type": "markdown",
      "source": [
        "Simulación:"
      ],
      "metadata": {
        "id": "7gibHoWL9Jfc"
      }
    },
    {
      "cell_type": "code",
      "execution_count": 2,
      "metadata": {
        "id": "XGcHDUvMoMIz"
      },
      "outputs": [],
      "source": [
        "from random import uniform\n",
        "import numpy as np\n",
        "import matplotlib.pyplot as plt\n",
        "import statistics as st"
      ]
    },
    {
      "cell_type": "code",
      "source": [
        "mu = 5/9"
      ],
      "metadata": {
        "id": "y1GF4HRfvPHp"
      },
      "execution_count": 3,
      "outputs": []
    },
    {
      "cell_type": "code",
      "source": [
        "def personas(n):\n",
        "  lista = []\n",
        "  cuenta = 0\n",
        "  for i in range(n):\n",
        "      x = uniform(0, 30) # Tomamos la distribución uniforme ya que ambos tienen la misma probabilidad de llegada\n",
        "      y = uniform(0, 30)\n",
        "      if abs(x - y) <= 10:  # Hacemos la diferencias de tiempos para que como máximo sean 10 minutos\n",
        "          cuenta += 1\n",
        "  prom = (cuenta / n)  # Calculamos la probabilidad\n",
        "  lista.append(prom)\n",
        "  return lista"
      ],
      "metadata": {
        "id": "YOHJ0hgjuWZr"
      },
      "execution_count": 20,
      "outputs": []
    },
    {
      "cell_type": "code",
      "source": [
        "def muestra(M):\n",
        "  lista = []\n",
        "  for i in range(1,M):\n",
        "    e = personas(i)        # Repetimos el experimento M veces, para generar una muestra\n",
        "    lista.append(e)           # Almacenamos en una lista la muestra obtenida\n",
        "  return lista"
      ],
      "metadata": {
        "id": "n6GWx-Le7lHC"
      },
      "execution_count": 21,
      "outputs": []
    },
    {
      "cell_type": "code",
      "source": [
        "n = 10000\n",
        "prob = muestra(n)"
      ],
      "metadata": {
        "id": "26DVWGCKszq3"
      },
      "execution_count": 25,
      "outputs": []
    },
    {
      "cell_type": "code",
      "source": [
        "des = np.std(prob)\n",
        "mu_cal = np.mean(prob)\n",
        "E = 1.96*np.sqrt(mu*(1-mu)/n)"
      ],
      "metadata": {
        "id": "5AIo1pFA59aF"
      },
      "execution_count": 26,
      "outputs": []
    },
    {
      "cell_type": "code",
      "source": [
        "print(\"Media estimada: \", mu_cal)\n",
        "print(\"Media exacta: \", mu)\n",
        "print(\"Error de media con respecto a la real:\", abs(mu-mu_cal))"
      ],
      "metadata": {
        "colab": {
          "base_uri": "https://localhost:8080/"
        },
        "id": "63PEUxO_u80-",
        "outputId": "7dbb4141-03fe-480c-b4c8-d5bf7acdd67f"
      },
      "execution_count": 27,
      "outputs": [
        {
          "output_type": "stream",
          "name": "stdout",
          "text": [
            "Media estimada:  0.5555863197086007\n",
            "Media exacta:  0.5555555555555556\n",
            "Error de media con respecto a la real: 3.076415304514857e-05\n"
          ]
        }
      ]
    },
    {
      "cell_type": "code",
      "source": [
        "# Gráfico\n",
        "plt.figure(figsize=(12, 5))\n",
        "plt.plot(prob, marker='o', markersize=3, linestyle='-', color = \"cyan\")\n",
        "plt.axhline(mu, color='violet', linestyle='--', label=\"Valor exacto ≈ 0.34\")\n",
        "plt.axhline(mu + E, color='blue', linestyle='--', label=\"Varianza+\", alpha=0.6)\n",
        "plt.axhline(mu - E, color='blue', linestyle='--', label=\"Varianza-\", alpha=0.6)\n",
        "plt.ylim(0, 1)\n",
        "plt.title(\"Probabilidad generada (Gráfica 1)\")\n",
        "plt.xlabel(\"Número de experimento\")\n",
        "plt.ylabel(\"P(x)\")\n",
        "plt.legend()\n",
        "plt.grid(True)\n",
        "plt.show()"
      ],
      "metadata": {
        "colab": {
          "base_uri": "https://localhost:8080/",
          "height": 488
        },
        "id": "y2FwWswh58X6",
        "outputId": "acc0b3c2-f1ba-466a-8bfa-90d152c2f910"
      },
      "execution_count": 34,
      "outputs": [
        {
          "output_type": "display_data",
          "data": {
            "text/plain": [
              "<Figure size 1200x500 with 1 Axes>"
            ],
            "image/png": "[encoded data removed]"
          },
          "metadata": {}
        }
      ]
    },
    {
      "cell_type": "code",
      "source": [
        "from scipy.stats import norm\n",
        "# Nivel de confianza\n",
        "confianza = 0.95\n",
        "\n",
        "# Cálculo de z_{α/2}\n",
        "alpha = 1 - confianza\n",
        "z_alpha_2 = norm.ppf(1 - alpha / 2)\n",
        "\n",
        "print(\"z_{{α/2}} para un \",confianza*100,\"% de confianza es: \",round(z_alpha_2, 4))"
      ],
      "metadata": {
        "colab": {
          "base_uri": "https://localhost:8080/"
        },
        "id": "hlf8AME-9wgT",
        "outputId": "a89fe286-285c-4118-f7d3-b884d94454c9"
      },
      "execution_count": 35,
      "outputs": [
        {
          "output_type": "stream",
          "name": "stdout",
          "text": [
            "z_{{α/2}} para un  95.0 % de confianza es:  1.96\n"
          ]
        }
      ]
    },
    {
      "cell_type": "code",
      "source": [
        "niv_confianza = abs((2 * des * z_alpha_2) / np.sqrt(n))\n",
        "print(\"El nivel de confianza es: \",niv_confianza)\n",
        "print(\"El intervalo de confianza es: [\",mu - niv_confianza/2,\",\",mu + niv_confianza/2,\"]\")"
      ],
      "metadata": {
        "colab": {
          "base_uri": "https://localhost:8080/"
        },
        "id": "2UzkZz9W7PUV",
        "outputId": "8dcb7c6e-08a3-474a-846e-2009af683933"
      },
      "execution_count": 36,
      "outputs": [
        {
          "output_type": "stream",
          "name": "stdout",
          "text": [
            "El nivel de confianza es:  0.0005686395335519932\n",
            "El intervalo de confianza es: [ 0.5552712357887796 , 0.5558398753223316 ]\n"
          ]
        }
      ]
    },
    {
      "cell_type": "markdown",
      "source": [
        "### **Resultados de la simulación**\n",
        "\n",
        "Notemos que la  probabilidad de que el tiempo que una persona espere a la otra sea como máximo 10 minutos por simulación es de 0.5555863197086007, en comparacion con la probabilidad exacta que es de 0.5555555555555556, con un nivel de confianza de 95% en un intervalo de confianza de [0.552712357887796 , 0.5558398753223316]."
      ],
      "metadata": {
        "id": "9jZNAdbb-Gqx"
      }
    }
  ]
}