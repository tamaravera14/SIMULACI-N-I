{
  "nbformat": 4,
  "nbformat_minor": 0,
  "metadata": {
    "colab": {
      "provenance": [],
      "authorship_tag": "ABX9TyNywMKUjxN64xJBvA+lDe5x",
      "include_colab_link": true
    },
    "kernelspec": {
      "name": "python3",
      "display_name": "Python 3"
    },
    "language_info": {
      "name": "python"
    }
  },
  "cells": [
    {
      "cell_type": "markdown",
      "metadata": {
        "id": "view-in-github",
        "colab_type": "text"
      },
      "source": [
        "<a href=\"https://colab.research.google.com/github/tamaravera14/SIMULACI-N-I/blob/main/Procedimientos_especiales.ipynb\" target=\"_parent\"><img src=\"https://colab.research.google.com/assets/colab-badge.svg\" alt=\"Open In Colab\"/></a>"
      ]
    },
    {
      "cell_type": "markdown",
      "source": [
        "# PROCEDIMIENTOS ESPECIALES\n",
        "\n",
        "---\n",
        "###Tamara Alheli Bazaldua Vera\n",
        "\n",
        "---"
      ],
      "metadata": {
        "id": "j44vWhPO_Mte"
      }
    },
    {
      "cell_type": "markdown",
      "source": [
        "---\n",
        "\n",
        "Para generar:\n",
        "$$ f(x) = \\frac{1}{\\sqrt{2\\pi} * \\sigma} + e^{ -\\frac{1}{2} * (\\frac{ x - μ }{\\sigma})^2}$$ , de $$ - ∞ < x < ∞$$\n",
        "\n",
        "---"
      ],
      "metadata": {
        "id": "wPNThPJA_Z8p"
      }
    },
    {
      "cell_type": "markdown",
      "source": [
        "Usamos el Teorema del límite central:\n",
        "Generamos n números aleatorios y consideramos:\n",
        "$$ \\mu = 2 , \\sigma = 3 $$\n",
        "\n",
        "$$ z = \\frac{Y - \\Sigma_{i = 1}^{n} \\mu_{i} }{\\Sigma_{i = 1}^{n} \\sigma_{i}^2} $$\n",
        "donde\n",
        "$$ Y = R_1 + R_2 + ... + R_n$$\n",
        "\n",
        "$$ z = \\frac{\\Sigma_{i = 1}^{n} R_{i} - \\frac{n}{2} }{\\sqrt{\\frac{n}{12}}}\n",
        "$$\n",
        "\n",
        "Así,\n",
        "\n",
        "$$ z = \\Sigma_{i = 12}^{n} R_i - 6$$"
      ],
      "metadata": {
        "id": "J3D9AaFWBxma"
      }
    },
    {
      "cell_type": "markdown",
      "source": [
        "De manera que\n",
        "$$ x = \\mu - \\sigma (\\Sigma_{i = 12}^{n} R_i - 6)$$\n",
        "\n",
        "con $ R_i $ ~  $U(0,1)$\n",
        "\n",
        "---"
      ],
      "metadata": {
        "id": "puFDXWIJDcgn"
      }
    },
    {
      "cell_type": "markdown",
      "source": [
        "*Librerías a usar en el código.*"
      ],
      "metadata": {
        "id": "QrqF5FvgsFjH"
      }
    },
    {
      "cell_type": "code",
      "execution_count": 14,
      "metadata": {
        "id": "QvIacL8q7W2n"
      },
      "outputs": [],
      "source": [
        "import random\n",
        "import matplotlib.pyplot as plt\n",
        "import numpy as np\n",
        "import statistics"
      ]
    },
    {
      "cell_type": "markdown",
      "source": [
        "Variables globales:"
      ],
      "metadata": {
        "id": "HcLXRwZ5sJqd"
      }
    },
    {
      "cell_type": "code",
      "source": [
        "mu = 2\n",
        "sigma = 3\n",
        "n = 10000"
      ],
      "metadata": {
        "id": "EOTFnKxM7eAO"
      },
      "execution_count": 15,
      "outputs": []
    },
    {
      "cell_type": "markdown",
      "source": [
        "Función del experimento con el ***Método de las 12 uniformes***."
      ],
      "metadata": {
        "id": "ZOZosMi2sMLZ"
      }
    },
    {
      "cell_type": "code",
      "source": [
        "def Especial(n):\n",
        "  lista = []\n",
        "  for _ in range(n):\n",
        "    s = 0\n",
        "    for _ in range(12):\n",
        "      R = random.random()\n",
        "      s += R\n",
        "    x = mu + sigma * (s - 6)\n",
        "    lista.append(x)\n",
        "  return lista"
      ],
      "metadata": {
        "id": "R0fEAR0D7g89"
      },
      "execution_count": 16,
      "outputs": []
    },
    {
      "cell_type": "markdown",
      "source": [
        "Asigancion de la lista de los valores obtenidos para x."
      ],
      "metadata": {
        "id": "hDNzO-cHsbOH"
      }
    },
    {
      "cell_type": "code",
      "source": [
        "esp = Especial(n)"
      ],
      "metadata": {
        "id": "FH6DNItV7pyk"
      },
      "execution_count": 27,
      "outputs": []
    },
    {
      "cell_type": "markdown",
      "source": [
        "Grafica del histograma con los valores obtenidos, debe ser similar a $f(x)$."
      ],
      "metadata": {
        "id": "wOBOeFSYscre"
      }
    },
    {
      "cell_type": "code",
      "source": [
        "plt.hist(esp, bins = 25)\n",
        "plt.show()"
      ],
      "metadata": {
        "colab": {
          "base_uri": "https://localhost:8080/",
          "height": 430
        },
        "id": "8TtS6uxz8dKA",
        "outputId": "3fa46db8-3cf5-42fe-e62c-1b5074b94495"
      },
      "execution_count": 28,
      "outputs": [
        {
          "output_type": "display_data",
          "data": {
            "text/plain": [
              "<Figure size 640x480 with 1 Axes>"
            ],
            "image/png": "[encoded data removed]"
          },
          "metadata": {}
        }
      ]
    },
    {
      "cell_type": "markdown",
      "source": [
        "*Calculo de la media estimada y comparacion con la real.*"
      ],
      "metadata": {
        "id": "3UdKC4dtsyCk"
      }
    },
    {
      "cell_type": "code",
      "source": [
        "print(\"Media estimada: \", np.mean(esp))\n",
        "print(\"Media real: \", mu)\n",
        "print(\"Error de media:\", mu - np.mean(esp))"
      ],
      "metadata": {
        "colab": {
          "base_uri": "https://localhost:8080/"
        },
        "id": "QYjM_JO58icS",
        "outputId": "eacae04c-2a9e-422d-9f5d-7011c70931d9"
      },
      "execution_count": 29,
      "outputs": [
        {
          "output_type": "stream",
          "name": "stdout",
          "text": [
            "Media estimada:  1.9872198090009559\n",
            "Media real:  2\n",
            "Error de media: 0.01278019099904415\n"
          ]
        }
      ]
    },
    {
      "cell_type": "markdown",
      "source": [
        "*Calculo de la desviación estándar estimada y comparacion con la real.*"
      ],
      "metadata": {
        "id": "4D_fGsQIs0un"
      }
    },
    {
      "cell_type": "code",
      "source": [
        "print(\"Desviacion estandar estimada: \", statistics.stdev(esp))\n",
        "print(\"Desviacion estandar real: \", sigma)\n",
        "print(\"Error de Desviacion estandar:\", sigma - statistics.stdev(esp))"
      ],
      "metadata": {
        "colab": {
          "base_uri": "https://localhost:8080/"
        },
        "id": "c7pD-4qX9DK1",
        "outputId": "dbd46669-794e-4141-bedd-21dfc6019386"
      },
      "execution_count": 30,
      "outputs": [
        {
          "output_type": "stream",
          "name": "stdout",
          "text": [
            "Desviacion estandar estimada:  2.9928735956679127\n",
            "Desviacion estandar real:  3\n",
            "Error de Desviacion estandar: 0.007126404332087333\n"
          ]
        }
      ]
    },
    {
      "cell_type": "markdown",
      "source": [
        "*Periodo de aceptación es decir de la cantidad de elementos generados, solo fueron admitidos una parte (en este caso todos son admitidos, debido a que no hay ninguna restricción).*"
      ],
      "metadata": {
        "id": "wxiH74d-tlKg"
      }
    },
    {
      "cell_type": "code",
      "source": [
        "print(\"Periodo de aceptacion: \", len(esp), \"de\", n)"
      ],
      "metadata": {
        "id": "UwTqmbyCE4sd",
        "colab": {
          "base_uri": "https://localhost:8080/"
        },
        "outputId": "83cb58a9-5fb0-44ac-a99b-75c8e2697fb4"
      },
      "execution_count": 31,
      "outputs": [
        {
          "output_type": "stream",
          "name": "stdout",
          "text": [
            "Periodo de aceptacion:  10000 de 10000\n"
          ]
        }
      ]
    }
  ]
}