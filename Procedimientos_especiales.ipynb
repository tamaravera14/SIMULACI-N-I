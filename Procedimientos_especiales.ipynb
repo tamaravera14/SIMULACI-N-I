{
  "nbformat": 4,
  "nbformat_minor": 0,
  "metadata": {
    "colab": {
      "provenance": [],
      "authorship_tag": "ABX9TyPToLHQp96kofvTPdOaV7Fo",
      "include_colab_link": true
    },
    "kernelspec": {
      "name": "python3",
      "display_name": "Python 3"
    },
    "language_info": {
      "name": "python"
    }
  },
  "cells": [
    {
      "cell_type": "markdown",
      "metadata": {
        "id": "view-in-github",
        "colab_type": "text"
      },
      "source": [
        "<a href=\"https://colab.research.google.com/github/tamaravera14/SIMULACI-N-I/blob/main/Procedimientos_especiales.ipynb\" target=\"_parent\"><img src=\"https://colab.research.google.com/assets/colab-badge.svg\" alt=\"Open In Colab\"/></a>"
      ]
    },
    {
      "cell_type": "markdown",
      "source": [
        "# PROCEDIMIENTOS ESPECIALES\n",
        "###Tamara Alheli Bazaldua Vera"
      ],
      "metadata": {
        "id": "j44vWhPO_Mte"
      }
    },
    {
      "cell_type": "markdown",
      "source": [
        "Para generar:\n",
        "$$ f(x) = \\frac{1}{\\sqrt{2\\pi} * \\sigma} + e^{ -\\frac{1}{2} * (\\frac{ x - μ }{\\sigma})^2}$$ , de $$ - ∞ < x < ∞$$"
      ],
      "metadata": {
        "id": "wPNThPJA_Z8p"
      }
    },
    {
      "cell_type": "markdown",
      "source": [
        "Usamos el Teorema del límite central:\n",
        "Generamos n números aleatorios y consideramos:\n",
        "$$ \\mu = 2 , \\sigma = 3 $$\n",
        "\n",
        "$$ z = \\frac{Y - \\Sigma_{i = 1}^{n} \\mu_{i} }{\\Sigma_{i = 1}^{n} \\sigma_{i}^2} $$\n",
        "donde\n",
        "$$ Y = R_1 + R_2 + ... + R_n$$\n",
        "\n",
        "$$ z = \\frac{\\Sigma_{i = 1}^{n} R_{i} - \\frac{n}{2} }{\\sqrt{\\frac{n}{12}}}\n",
        "$$\n",
        "\n",
        "Así,\n",
        "\n",
        "$$ z = \\Sigma_{i = 12}^{n} R_i - 6$$"
      ],
      "metadata": {
        "id": "J3D9AaFWBxma"
      }
    },
    {
      "cell_type": "markdown",
      "source": [
        "De manera que\n",
        "$$ x = \\mu - \\sigma (\\Sigma_{i = 12}^{n} R_i - 6)$$\n",
        "\n",
        "con $ R_i $ ~  $U(0,1)$"
      ],
      "metadata": {
        "id": "puFDXWIJDcgn"
      }
    },
    {
      "cell_type": "code",
      "execution_count": null,
      "metadata": {
        "id": "QvIacL8q7W2n"
      },
      "outputs": [],
      "source": [
        "import random\n",
        "import matplotlib.pyplot as plt\n",
        "import numpy as np\n",
        "import statistics"
      ]
    },
    {
      "cell_type": "code",
      "source": [
        "mu = 2\n",
        "sigma = 3\n",
        "n = 10000"
      ],
      "metadata": {
        "id": "EOTFnKxM7eAO"
      },
      "execution_count": null,
      "outputs": []
    },
    {
      "cell_type": "code",
      "source": [
        "def Especial(n):\n",
        "  lista = []\n",
        "  for _ in range(n):\n",
        "    s = 0\n",
        "    for _ in range(12):\n",
        "      R = random.random()\n",
        "      s += R\n",
        "    x = mu + sigma * (s - 6)\n",
        "    lista.append(x)\n",
        "  return lista\n"
      ],
      "metadata": {
        "id": "R0fEAR0D7g89"
      },
      "execution_count": null,
      "outputs": []
    },
    {
      "cell_type": "code",
      "source": [
        "esp = Especial(n)"
      ],
      "metadata": {
        "id": "FH6DNItV7pyk"
      },
      "execution_count": null,
      "outputs": []
    },
    {
      "cell_type": "code",
      "source": [
        "plt.hist(esp, bins=100)\n",
        "plt.show()"
      ],
      "metadata": {
        "colab": {
          "base_uri": "https://localhost:8080/",
          "height": 430
        },
        "id": "8TtS6uxz8dKA",
        "outputId": "43123d74-563b-42d7-bf43-099bde66bafe"
      },
      "execution_count": null,
      "outputs": [
        {
          "output_type": "display_data",
          "data": {
            "text/plain": [
              "<Figure size 640x480 with 1 Axes>"
            ],
            "image/png": "[encoded data removed]"
          },
          "metadata": {}
        }
      ]
    },
    {
      "cell_type": "code",
      "source": [
        "print(\"Media: \", np.mean(esp))\n",
        "print(\"Error de media:\", mu - np.mean(esp))"
      ],
      "metadata": {
        "colab": {
          "base_uri": "https://localhost:8080/"
        },
        "id": "QYjM_JO58icS",
        "outputId": "a5e107fb-6b2e-4571-fbae-142e9060ed89"
      },
      "execution_count": null,
      "outputs": [
        {
          "output_type": "stream",
          "name": "stdout",
          "text": [
            "Media:  1.947124097116465\n",
            "Error de media: 0.05287590288353505\n"
          ]
        }
      ]
    },
    {
      "cell_type": "code",
      "source": [
        "print(\"Desviacion estandar: \", statistics.stdev(esp))\n",
        "print(\"Error de Desviacion estandar:\", sigma - statistics.stdev(esp))"
      ],
      "metadata": {
        "colab": {
          "base_uri": "https://localhost:8080/"
        },
        "id": "c7pD-4qX9DK1",
        "outputId": "e77693e2-7800-4a33-95c7-97a5baf9d377"
      },
      "execution_count": null,
      "outputs": [
        {
          "output_type": "stream",
          "name": "stdout",
          "text": [
            "Desviacion estandar:  3.0059831479535535\n",
            "Error de Desviacion estandar: -0.00598314795355348\n"
          ]
        }
      ]
    },
    {
      "cell_type": "code",
      "source": [],
      "metadata": {
        "id": "UwTqmbyCE4sd"
      },
      "execution_count": null,
      "outputs": []
    }
  ]
}