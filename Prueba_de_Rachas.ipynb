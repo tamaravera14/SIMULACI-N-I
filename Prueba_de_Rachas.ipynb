{
  "nbformat": 4,
  "nbformat_minor": 0,
  "metadata": {
    "colab": {
      "provenance": [],
      "authorship_tag": "ABX9TyNnKZraon66kjes00gjvuhg",
      "include_colab_link": true
    },
    "kernelspec": {
      "name": "python3",
      "display_name": "Python 3"
    },
    "language_info": {
      "name": "python"
    }
  },
  "cells": [
    {
      "cell_type": "markdown",
      "metadata": {
        "id": "view-in-github",
        "colab_type": "text"
      },
      "source": [
        "<a href=\"https://colab.research.google.com/github/tamaravera14/SIMULACI-N-I/blob/main/Prueba_de_Rachas.ipynb\" target=\"_parent\"><img src=\"https://colab.research.google.com/assets/colab-badge.svg\" alt=\"Open In Colab\"/></a>"
      ]
    },
    {
      "cell_type": "markdown",
      "source": [
        "#**Prueba de Rachas**\n",
        "---\n",
        "###*Bazaldua Vera Tamara Alheli*\n",
        "---"
      ],
      "metadata": {
        "id": "8m-TIhyOje2-"
      }
    },
    {
      "cell_type": "markdown",
      "source": [
        "---\n",
        "La **Prueba de Rachas** es un test **no paramétrico** que se usa para evaluar si una secuencia de datos es aleatoria o si sigue algún patrón. Se basa en contar los cambios consecutivos dentro de la serie de datos."
      ],
      "metadata": {
        "id": "ozeCvA1gkhY6"
      }
    },
    {
      "cell_type": "markdown",
      "source": [
        "---\n",
        "###**Pasos:**\n",
        "\n",
        "\n",
        "1.   Determinar una secuencia (S) de 0 y 1.\n",
        "      * Se clasifica cada dato según un criterio.\n",
        "      * El conjunto S tiene n-1 términos.\n",
        "2.   Contar el número de corridas/rachas observadas.\n",
        "      * Una racha es un grupo consecutivo de elementos iguales.\n",
        "3.   Calcular el valor esperado:\n",
        "      * µ_(Co) =(2n - 1) / 3\n",
        "4.   Calcular la varianza:\n",
        "      * σ^2_(Co) = (16n - 29) / 90\n",
        "5.   Calcular la desviación estándar:\n",
        "      * σ_(Co) = √ σ^2_(Co)\n",
        "6.   Calcular el estadístico:\n",
        "      * Z = (Co - µ_(Co)) / σ_(Co)\n",
        "7.   Comparar con el valor crítico\n",
        "      * Se busca el valor crítico en la distribución normal estándar.\n",
        "      * Si ∣𝑍∣ es mayor que el valor crítico, se rechaza la hipótesis nula (𝐻0), lo que significa que los datos no son aleatorios.\n",
        "\n",
        "---\n"
      ],
      "metadata": {
        "id": "rCHcns9pkx9i"
      }
    },
    {
      "cell_type": "markdown",
      "source": [
        "###***Intervalo de aceptación***\n",
        "\n",
        " **-Z_(a/2)   ≤   Z   ≤   Z_(a/2)**"
      ],
      "metadata": {
        "id": "xjXOMn5sm3we"
      }
    },
    {
      "cell_type": "markdown",
      "source": [
        "---\n",
        "###***Hipótesis de la prueba***\n",
        "\n",
        "\n",
        "*   H0 (Hipótesis nula): La secuencia de datos es aleatoria.\n",
        "*   H1 (Hipótesis alternativa): Hay un patrón en los datos, no son aleatorios.\n",
        "\n",
        "---"
      ],
      "metadata": {
        "id": "y9LOJvEznqhw"
      }
    },
    {
      "cell_type": "markdown",
      "source": [
        "---\n",
        "###**Ventajas**\n",
        "\n",
        "✔ No requiere suposiciones sobre la distribución de los datos.\n",
        "\n",
        "✔ Fácil de interpretar y aplicar.\n",
        "\n",
        "✔ Útil para detectar patrones en datos secuenciales.\n",
        "\n",
        "✔ Apto para datos cualitativos y cuantitativos.\n",
        "\n",
        "✔ Útil para detectar patrones en datos secuenciales.\n",
        "\n",
        "---\n",
        "\n",
        "###**Desventajas**\n",
        "\n",
        "✘ Menos potente que otras pruebas estadísticas.\n",
        "\n",
        "✘ Sensibilidad a datos extremos.\n",
        "\n",
        "✘ No mide la magnitud del patrón.\n",
        "\n",
        "✘ No indica la dirección del patrón.\n",
        "\n",
        "✘ Menos efectiva en muestras pequeñas.\n",
        "\n",
        "---"
      ],
      "metadata": {
        "id": "OHtiQqaqoONK"
      }
    },
    {
      "cell_type": "markdown",
      "source": [
        "**Código**:"
      ],
      "metadata": {
        "id": "oixcPvESpmV1"
      }
    },
    {
      "cell_type": "markdown",
      "source": [
        "Librerias a usar"
      ],
      "metadata": {
        "id": "zKisIBBkpp5W"
      }
    },
    {
      "cell_type": "code",
      "execution_count": null,
      "metadata": {
        "id": "4BM4zOlhiWd-"
      },
      "outputs": [],
      "source": [
        "from tabulate import tabulate\n",
        "import numpy as np\n",
        "import scipy.stats as stats\n",
        "from scipy.stats import norm\n",
        "import math"
      ]
    },
    {
      "cell_type": "markdown",
      "source": [
        "Datos de la muestra"
      ],
      "metadata": {
        "id": "iTflHvTrptkQ"
      }
    },
    {
      "cell_type": "code",
      "source": [
        "x = [\n",
        "    0.048, 0.926, 0.368, 0.787, 0.298,\n",
        "    0.591, 0.007, 0.437, 0.594, 0.199,\n",
        "    0.478, 0.551, 0.178, 0.086, 0.157,\n",
        "    0.166, 0.362, 0.411, 0.951, 0.401,\n",
        "    0.932, 0.533, 0.545, 0.772, 0.631\n",
        "]"
      ],
      "metadata": {
        "id": "yLHSmhMlifee"
      },
      "execution_count": null,
      "outputs": []
    },
    {
      "cell_type": "markdown",
      "source": [
        "Variables globales"
      ],
      "metadata": {
        "id": "155TvjEDpv6n"
      }
    },
    {
      "cell_type": "code",
      "source": [
        "alpha = 0.05\n",
        "n = len(x)"
      ],
      "metadata": {
        "id": "weuwSguvijxk"
      },
      "execution_count": null,
      "outputs": []
    },
    {
      "cell_type": "markdown",
      "source": [
        "Funcion para determinar la secuencia de los datos y generar S"
      ],
      "metadata": {
        "id": "wEUuPAJ5pyFT"
      }
    },
    {
      "cell_type": "code",
      "source": [
        "def Prueba_Ind(x):\n",
        "  S = []\n",
        "\n",
        "  for i in range(n-1):\n",
        "    if x[i] < x[i+1]:\n",
        "      S.append(\"1\")\n",
        "    else:\n",
        "        S.append(\"0\")\n",
        "  return S"
      ],
      "metadata": {
        "id": "9fW4N_nnitww"
      },
      "execution_count": null,
      "outputs": []
    },
    {
      "cell_type": "markdown",
      "source": [
        "Guardar la secuencia S"
      ],
      "metadata": {
        "id": "FfX-4N3rp5O5"
      }
    },
    {
      "cell_type": "code",
      "source": [
        "S= Prueba_Ind(x)"
      ],
      "metadata": {
        "id": "Tgsa9JsYivYO"
      },
      "execution_count": null,
      "outputs": []
    },
    {
      "cell_type": "markdown",
      "source": [
        "Función para contar las rachas generadas en la Secuencia S"
      ],
      "metadata": {
        "id": "4fxIhTSmp7xW"
      }
    },
    {
      "cell_type": "code",
      "source": [
        "def contar_rachas(S):\n",
        "    num_rachas = 1\n",
        "    for i in range(1, len(S)):\n",
        "        if S[i] != S[i - 1]:\n",
        "            num_rachas += 1\n",
        "    return num_rachas"
      ],
      "metadata": {
        "id": "a74l9RdEiyA5"
      },
      "execution_count": null,
      "outputs": []
    },
    {
      "cell_type": "markdown",
      "source": [
        "Guardar el numero de rachas"
      ],
      "metadata": {
        "id": "40_O-5v_qBZJ"
      }
    },
    {
      "cell_type": "code",
      "source": [
        "num_corridas = contar_rachas(S)"
      ],
      "metadata": {
        "id": "mWHsn9Mhiz9R"
      },
      "execution_count": null,
      "outputs": []
    },
    {
      "cell_type": "markdown",
      "source": [
        "Función para calcular los datos  estadísticos"
      ],
      "metadata": {
        "id": "6pFiq0WuqDmN"
      }
    },
    {
      "cell_type": "code",
      "source": [
        "def datos_estadsitcos(n,alpha):\n",
        "  val_Esp= (2*n-1)/3\n",
        "  varianza = (16*n-29)/90\n",
        "  desviacion_estandar = np.sqrt(varianza)\n",
        "  z = (num_corridas - val_Esp) / desviacion_estandar\n",
        "  z_alpha_2 = abs(norm.ppf(alpha / 2))\n",
        "  return val_Esp,varianza,desviacion_estandar,z,z_alpha_2"
      ],
      "metadata": {
        "id": "1-8kMFHhi0fO"
      },
      "execution_count": null,
      "outputs": []
    },
    {
      "cell_type": "markdown",
      "source": [
        "Guardar las variables estadísticas"
      ],
      "metadata": {
        "id": "17ihK_WuqGxR"
      }
    },
    {
      "cell_type": "code",
      "source": [
        "val_Esp,varianza,desviacion_estandar,z,z_alpha_2 = datos_estadsitcos(n,alpha)"
      ],
      "metadata": {
        "id": "_CLVUYKFi2oS"
      },
      "execution_count": null,
      "outputs": []
    },
    {
      "cell_type": "markdown",
      "source": [
        "Función para calcular el Nivel de Aceptacion de la prueba y verificar si se rechaza o no la Hipótesis Nula"
      ],
      "metadata": {
        "id": "ZQxVNIjYqKvm"
      }
    },
    {
      "cell_type": "code",
      "source": [
        "def Nivel_de_Aceptacion(z_alpha_2, z):\n",
        "    if -z_alpha_2 <= z <= z_alpha_2:\n",
        "        print(\"\\033[1mNo rechazar H0\\033[0m\")\n",
        "    else:\n",
        "        print(\"\\033[1mRechazar H0\\033[0m\")"
      ],
      "metadata": {
        "id": "i_8lQ8MDi8sr"
      },
      "execution_count": null,
      "outputs": []
    },
    {
      "cell_type": "markdown",
      "source": [
        "Almacena los datos estadisticos y el número de corridas en una lista"
      ],
      "metadata": {
        "id": "xlkF4pGKqYO5"
      }
    },
    {
      "cell_type": "code",
      "source": [
        "lista1= [[num_corridas,val_Esp,varianza,desviacion_estandar,z,z_alpha_2]]"
      ],
      "metadata": {
        "id": "IP8bgMqFi_f9"
      },
      "execution_count": null,
      "outputs": []
    },
    {
      "cell_type": "markdown",
      "source": [
        "Imprime el nombre de la Prueba"
      ],
      "metadata": {
        "id": "5aoww4B5qhHp"
      }
    },
    {
      "cell_type": "code",
      "source": [
        "print(\"\\n\\033[1m''PRUEBA DE INDEPENDENCIA'' \\033[0m \\n \")"
      ],
      "metadata": {
        "colab": {
          "base_uri": "https://localhost:8080/"
        },
        "id": "dCopitCgjDMq",
        "outputId": "cc3a2a88-1985-4ae9-8a81-08a8ff0f760d"
      },
      "execution_count": null,
      "outputs": [
        {
          "output_type": "stream",
          "name": "stdout",
          "text": [
            "\n",
            "\u001b[1m''PRUEBA DE INDEPENDENCIA'' \u001b[0m \n",
            " \n"
          ]
        }
      ]
    },
    {
      "cell_type": "markdown",
      "source": [
        "Imprime la Secuencia de rachas (S)"
      ],
      "metadata": {
        "id": "boNaKWRnqlGE"
      }
    },
    {
      "cell_type": "code",
      "source": [
        "print(\"\\033[1mSecuencia de rachas (S):\\033[0m\\n\\n\", S)"
      ],
      "metadata": {
        "colab": {
          "base_uri": "https://localhost:8080/"
        },
        "id": "P1WD0OZwjF5z",
        "outputId": "b9731a73-afbb-4e78-afa4-359b3e263759"
      },
      "execution_count": null,
      "outputs": [
        {
          "output_type": "stream",
          "name": "stdout",
          "text": [
            "\u001b[1mSecuencia de rachas (S):\u001b[0m\n",
            "\n",
            " ['1', '0', '1', '0', '1', '0', '1', '1', '0', '1', '1', '0', '0', '1', '1', '1', '1', '1', '0', '1', '0', '1', '1', '0']\n"
          ]
        }
      ]
    },
    {
      "cell_type": "markdown",
      "source": [
        "Imprime la tabla con el analisis de los datos estadísticos"
      ],
      "metadata": {
        "id": "OEFkEwRHqonE"
      }
    },
    {
      "cell_type": "code",
      "source": [
        "print(\"\\n\\n\\033[1mAnalisis de datos:\\033[0m\")\n",
        "encabezados1 = [\"\\033[1mCorridas (Co)\",\"Valor Esperado\",\"Varianza\",\"Desviación Estándar\", \"Estadístico (Z)\", \"Crítico Z_(a/2)\\033[0m\"]\n",
        "print(tabulate(lista1, headers=encabezados1, tablefmt=\"grid\"))"
      ],
      "metadata": {
        "colab": {
          "base_uri": "https://localhost:8080/"
        },
        "id": "mgPPMqehjOyj",
        "outputId": "020549aa-be17-44b7-8314-e5bd6573789f"
      },
      "execution_count": 17,
      "outputs": [
        {
          "output_type": "stream",
          "name": "stdout",
          "text": [
            "\n",
            "\n",
            "\u001b[1mAnalisis de datos:\u001b[0m\n",
            "+-----------------+------------------+------------+-----------------------+-------------------+-------------------+\n",
            "|   \u001b[1mCorridas (Co) |   Valor Esperado |   Varianza |   Desviación Estándar |   Estadístico (Z) |   Crítico Z_(a/2)\u001b[0m |\n",
            "+=================+==================+============+=======================+===================+===================+\n",
            "|              16 |          16.3333 |    4.12222 |               2.03033 |         -0.164177 |           1.95996 |\n",
            "+-----------------+------------------+------------+-----------------------+-------------------+-------------------+\n"
          ]
        }
      ]
    },
    {
      "cell_type": "markdown",
      "source": [
        "Imprime el Nivel de Aceptación antes calculado"
      ],
      "metadata": {
        "id": "GAHxOBi-qtH-"
      }
    },
    {
      "cell_type": "code",
      "source": [
        "print(\"\\n\\n\\033[1mConclusión:\\033[0m\")\n",
        "Nivel_de_Aceptacion(z_alpha_2, z)"
      ],
      "metadata": {
        "colab": {
          "base_uri": "https://localhost:8080/"
        },
        "id": "3ud3JK16jRk4",
        "outputId": "f62000a8-82de-4603-b226-7d0b83655534"
      },
      "execution_count": null,
      "outputs": [
        {
          "output_type": "stream",
          "name": "stdout",
          "text": [
            "\n",
            "\n",
            "\u001b[1mConclusión:\u001b[0m\n",
            "\u001b[1mNo rechazar H0\u001b[0m\n"
          ]
        }
      ]
    }
  ]
}