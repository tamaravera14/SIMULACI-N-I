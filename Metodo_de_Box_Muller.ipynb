{
  "nbformat": 4,
  "nbformat_minor": 0,
  "metadata": {
    "colab": {
      "provenance": [],
      "authorship_tag": "ABX9TyOdUQnlxY6GZv9a+qP9hw7R",
      "include_colab_link": true
    },
    "kernelspec": {
      "name": "python3",
      "display_name": "Python 3"
    },
    "language_info": {
      "name": "python"
    }
  },
  "cells": [
    {
      "cell_type": "markdown",
      "metadata": {
        "id": "view-in-github",
        "colab_type": "text"
      },
      "source": [
        "<a href=\"https://colab.research.google.com/github/tamaravera14/SIMULACI-N-I/blob/main/Metodo_de_Box_Muller.ipynb\" target=\"_parent\"><img src=\"https://colab.research.google.com/assets/colab-badge.svg\" alt=\"Open In Colab\"/></a>"
      ]
    },
    {
      "cell_type": "markdown",
      "source": [
        "# ***Método de Box - Müller***\n",
        "## **Box y Müller (1958)**\n",
        "---\n",
        "Tamara Alheli Bazaldua Vera\n",
        "\n",
        "---"
      ],
      "metadata": {
        "id": "-lYCbkq_EKVZ"
      }
    },
    {
      "cell_type": "markdown",
      "source": [
        "El siguiente enfoque puede usarse para generar un par de desviaciones aleatorias de la misma distribución normal a partir de un par de números aleatorios.\n",
        "\n",
        "---\n",
        "\n",
        "Sean $U_1, U_2$ variables aleatorias independientes con la misma función de densidad rectangular en el intervalo $(0,1)$. Consideremos las variables\n",
        "aleatorias:\n",
        "\n",
        "---\n",
        "\n",
        "1. $X = \\sqrt{-2\\log{U_1}} cos(2π) U_2$\n",
        "2. $Y = \\sqrt{-2\\log{U_1}} sen(2π) U_2$\n",
        "\n",
        "Entonces, $(0, 1)$ un par de variables aleatorias independientes de la misma distribución normal con **media cero** y **varianza unitaria**.\n",
        "\n",
        "---\n",
        "\n",
        "Dadas $X, Y$, se obtienen sus relaciones inversas:\n",
        "\n",
        "1. $U_1 = e^{-\\frac{X^2+Y^2}{2}}$\n",
        "2. $U_2 = \\frac{1}{2π}$arctan$(\\frac{Y}{X})$\n",
        "\n",
        "Donde su función de densidad conjunta es:\n",
        "\n",
        "$$f(X,Y) = \\frac{1}{2π}e^{-\\frac{X^2+Y^2}{2}} = \\frac{1}{\\sqrt{2π}}e^{-\\frac{X^2}{2}} ⋅ \\frac{1}{\\sqrt{2π}}e^{-\\frac{Y^2}{2}} = f (X)f(Y) $$\n",
        "\n",
        "---"
      ],
      "metadata": {
        "id": "Sv9EZEYgMOYf"
      }
    },
    {
      "cell_type": "markdown",
      "source": [
        "---\n",
        "\n",
        "De lo anterior podemos concluir que:\n",
        "* Las variables son inddependientes X e Y.\n",
        "* La función de densidad de probabilidad $f(X,Y)$ es constante en los círculos.\n",
        "  * Así, $Θ = $arctan$(\\frac{Y}{X})$.\n",
        "  * Esta uniformemente distribuido de $(0, 2\\pi)$.\n",
        "  * El cuadrado del vector radio $r^2 = X^2 + Y^2$ .\n",
        "  * Distribución Chi-Cuadrada con dos grados de libertad.\n",
        "* Si U tiene una densidad rectangular de (0,1)\n",
        "  * Entonces, $-2log(U)$ tiene una distribución chi-cuadrada con dos grados de libertad.\n",
        "---"
      ],
      "metadata": {
        "id": "oFhgY7c_PfHB"
      }
    },
    {
      "cell_type": "markdown",
      "source": [
        "\n",
        "---\n",
        "Nota:\n",
        "Las observaciones de una distribución chi-cuadrada con ***2k*** grados de libertad pueden, por supuesto, generarse sumando los *k* términos:\n",
        "\n",
        "$\\sum_{i=1}^{k}{-2\\log(U_i)}$\n",
        "\n",
        "El método propuesto aquí surgió del deseo de tener una forma de generar desviaciones normales que fuera confiable en las colas de la distribución.\n",
        "\n",
        " Los números pseudoaleatorios pueden generarse mediante una variedad de métodos dentro de la máquina, y el propósito de esta nota es presentar lo que se cree que es un nuevo método para generar desviaciones normales a partir de números aleatorios independientes. Este enfoque puede utilizarse tanto en computadoras pequeñas como en computadoras de gran escala.\n",
        "\n",
        " ---"
      ],
      "metadata": {
        "id": "SEBlbFmQRtav"
      }
    },
    {
      "cell_type": "markdown",
      "source": [
        "### ***Pseudocódigo***\n",
        "\n",
        "---\n",
        "\n",
        "Generar:\n",
        "* $U1, U2$ ~ $U(0,1)$\n",
        "\n",
        "Hacer:\n",
        "* $R = \\sqrt{-2\\log{U_1}}$\n",
        "\n",
        "* $Θ = 2πU_2$\n",
        "\n",
        "* $X = Rcos(π)$\n",
        "\n",
        "* $Y = Rsen(π)$\n",
        "\n",
        "Salir:\n",
        "\n",
        "* $X, Y$"
      ],
      "metadata": {
        "id": "6sijfRMrEgdJ"
      }
    },
    {
      "cell_type": "code",
      "execution_count": 19,
      "metadata": {
        "id": "G7b8XfE4_UCI"
      },
      "outputs": [],
      "source": [
        "import random\n",
        "import matplotlib.pyplot as plt\n",
        "import numpy as np\n",
        "import statistics\n",
        "import math"
      ]
    },
    {
      "cell_type": "code",
      "source": [
        "def Gen_DU(n):\n",
        "  lista = []\n",
        "  for _ in range(n):\n",
        "    U1 = random.random()\n",
        "    U2 = random.random()      # Generamos 2 números aleatorios\n",
        "    R = math.sqrt(-2*math.log(U1))    # Hacemos √-2log(U_1)\n",
        "    teta = 2*math.pi*U2               # Hacemos Θ = 2πU_2\n",
        "    x = R * math.cos(teta)          # Hacemos X = √-2log(U_1) * cos(2πU_2)\n",
        "    y = R * math.sin(teta)          # Hacemos Y = √-2log(U_1) * sin(2πU_2)\n",
        "    lista.append(x)\n",
        "    lista.append(y)\n",
        "  return lista              # Regresamos la muestra"
      ],
      "metadata": {
        "id": "80lqHupz_yoN"
      },
      "execution_count": 26,
      "outputs": []
    },
    {
      "cell_type": "code",
      "source": [
        "x = Gen_DU(50000) # Realizar el experimento n veces"
      ],
      "metadata": {
        "id": "L4UVtmKcAWPi"
      },
      "execution_count": 38,
      "outputs": []
    },
    {
      "cell_type": "code",
      "source": [
        "# Crear el histograma\n",
        "plt.hist(x, bins=50)\n",
        "\n",
        "# Añadir etiquetas y título\n",
        "plt.xlabel('x')\n",
        "plt.ylabel('y')\n",
        "plt.title('Histograma de Box-Müller')\n",
        "\n",
        "# Mostrar el histograma\n",
        "plt.show()"
      ],
      "metadata": {
        "colab": {
          "base_uri": "https://localhost:8080/",
          "height": 472
        },
        "id": "j-BAPn-MAZlR",
        "outputId": "544ccfc3-4754-4262-c8b9-1827f516d082"
      },
      "execution_count": 39,
      "outputs": [
        {
          "output_type": "display_data",
          "data": {
            "text/plain": [
              "<Figure size 640x480 with 1 Axes>"
            ],
            "image/png": "[encoded data removed]"
          },
          "metadata": {}
        }
      ]
    },
    {
      "cell_type": "code",
      "source": [
        "print(\"Media estimada: \", np.mean(x))\n",
        "print(\"Media real: 0\")\n",
        "print(\"Error de media: \", abs(np.mean(x) - 0))"
      ],
      "metadata": {
        "colab": {
          "base_uri": "https://localhost:8080/"
        },
        "id": "ncCh4CGjA3oP",
        "outputId": "51ace9f2-4d25-4c9d-fa0c-7bb770dfdada"
      },
      "execution_count": 40,
      "outputs": [
        {
          "output_type": "stream",
          "name": "stdout",
          "text": [
            "Media estimada:  0.0007257945409500286\n",
            "Media real: 0\n",
            "Error de media:  0.0007257945409500286\n"
          ]
        }
      ]
    },
    {
      "cell_type": "code",
      "source": [
        "print(\"Varianza estimada: \", np.var(x))\n",
        "print(\"Varianza real: 1\")\n",
        "print(\"Error de Varianza: \", abs(np.var(x) - 1))\n"
      ],
      "metadata": {
        "colab": {
          "base_uri": "https://localhost:8080/"
        },
        "id": "8EapT-ufLhUn",
        "outputId": "a5b29125-5b71-435c-ba9d-c21842f1b045"
      },
      "execution_count": 41,
      "outputs": [
        {
          "output_type": "stream",
          "name": "stdout",
          "text": [
            "Varianza estimada:  0.9920564707646279\n",
            "Varianza real: 1\n",
            "Error de Varianza:  0.007943529235372115\n"
          ]
        }
      ]
    },
    {
      "cell_type": "code",
      "source": [
        "print(\"Desviación estándar estimada: \", statistics.stdev(x))\n",
        "print(\"Desviación estándar real: 1\")\n",
        "print(\"Error de Desviación estándar: \", abs(statistics.stdev(x) - 1))"
      ],
      "metadata": {
        "colab": {
          "base_uri": "https://localhost:8080/"
        },
        "id": "j3jmHetVL0SX",
        "outputId": "5a2185be-eb66-41b3-deb8-8ba47fbf9f9a"
      },
      "execution_count": 42,
      "outputs": [
        {
          "output_type": "stream",
          "name": "stdout",
          "text": [
            "Desviación estándar estimada:  0.9960252965806352\n",
            "Desviación estándar real: 1\n",
            "Error de Desviación estándar:  0.003974703419364789\n"
          ]
        }
      ]
    }
  ]
}