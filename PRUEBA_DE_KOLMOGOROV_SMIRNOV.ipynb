{
  "nbformat": 4,
  "nbformat_minor": 0,
  "metadata": {
    "colab": {
      "provenance": [],
      "authorship_tag": "ABX9TyPcEi1GC2A/wKlrRHbznvBB",
      "include_colab_link": true
    },
    "kernelspec": {
      "name": "python3",
      "display_name": "Python 3"
    },
    "language_info": {
      "name": "python"
    }
  },
  "cells": [
    {
      "cell_type": "markdown",
      "metadata": {
        "id": "view-in-github",
        "colab_type": "text"
      },
      "source": [
        "<a href=\"https://colab.research.google.com/github/tamaravera14/SIMULACI-N-I/blob/main/PRUEBA_DE_KOLMOGOROV_SMIRNOV.ipynb\" target=\"_parent\"><img src=\"https://colab.research.google.com/assets/colab-badge.svg\" alt=\"Open In Colab\"/></a>"
      ]
    },
    {
      "cell_type": "markdown",
      "source": [
        "#**Prueba de Kolmogorov-Smirnov**\n",
        "## Bazaldua Vera Tamara Alheli"
      ],
      "metadata": {
        "id": "RRiVInP_7rQ1"
      }
    },
    {
      "cell_type": "markdown",
      "source": [
        "## Kolmogorov - Smirnov\n",
        "La **prueba de Kolmogórov-Smirnov**, nos devuelve un indicador para ayudarnos a de decidir si los datos de una determinada muestra se ajustan a una distribución de probabilidad, con las consecuencias que tiene este hecho de cara al análisis de datos.\n",
        "\n",
        "Esta prueba surge de los aportes realizados por Nikolaevich Kolmogorov y Vladimir Ivanovich Smirnov. La contribución de **Kolmogorov** corresponde al **problema relacionado con una sola muestra**, mientras que la de **Smirnov** se ocupa de **responder al problema** respecto a dos muestras, tratando de **probar la hipótesis** de igualdad entre las poblaciones de origen de una con respecto a la de la otra.\n",
        "\n"
      ],
      "metadata": {
        "id": "2GcUWI8V7yQU"
      }
    },
    {
      "cell_type": "markdown",
      "source": [
        "---\n",
        "**¿Para qué sirve?**\n",
        "\n",
        "\n",
        "Determina si un conjunto de datos sigue una distribución específica (por ejemplo, normal, exponencial, uniforme, etc.).\n",
        "\n",
        "Compara si dos muestras provienen de la misma distribución sin necesidad de asumir un tipo específico de distribución."
      ],
      "metadata": {
        "id": "FS_G8Ils75Av"
      }
    },
    {
      "cell_type": "markdown",
      "source": [
        "---\n",
        "**Proceso:**\n",
        "\n",
        "1. Ordena de menor a mayor el conjunto de datos.\n",
        "2. Calcula los valores D+, D- y D:\n",
        "    *   D+ = max { (i/n) - x_i}\n",
        "    *   D- = max { x_i - ( (i-1)/n ) }\n",
        "    *   D = max { D+, D- }\n",
        "3. Determina el valor crítico d_(alpha,n) en la tabla de valores criticos de K-S para un nivel de significancia (1 - alpha) y un tamaño de la muestra n.\n",
        "\n",
        "---\n",
        "##**Si D > d_(aplha,n) se rechaza H0**\n",
        "---"
      ],
      "metadata": {
        "id": "gs8rJrQ791oE"
      }
    },
    {
      "cell_type": "markdown",
      "source": [
        "**Ventajas**\n",
        "\n",
        "✔ No requiere que la distribución subyacente sea normal.\n",
        "\n",
        "✔ Funciona para tamaños de muestra pequeños y grandes.\n",
        "\n",
        "✔ Se puede usar para comparar dos muestras sin necesidad de asumir una distribución específica.\n",
        "\n",
        "**Desventajas**\n",
        "\n",
        "✘ Menos potente que otras pruebas (como la prueba de Shapiro-Wilk) cuando la distribución es cercana a la normal.\n",
        "\n",
        "✘ Más sensible a diferencias en el centro de la distribución que en los extremos.\n",
        "\n",
        "---"
      ],
      "metadata": {
        "id": "Ev1A6OYL9iAW"
      }
    },
    {
      "cell_type": "markdown",
      "source": [
        "###**Código:**"
      ],
      "metadata": {
        "id": "ahxjmIivApQC"
      }
    },
    {
      "cell_type": "code",
      "execution_count": 1,
      "metadata": {
        "colab": {
          "base_uri": "https://localhost:8080/"
        },
        "id": "Oeo04dc-7kJ2",
        "outputId": "e49f1f04-66ec-4a0d-a008-419e31d7acb3"
      },
      "outputs": [
        {
          "output_type": "stream",
          "name": "stdout",
          "text": [
            "\u001b[1m''PRUEBA DE KOLMOGOROV SMIRNOV'' \u001b[1m \n",
            "\n",
            " \n",
            "+-----+-------+-------+--------------+------------------+\n",
            "|   i |    Xi |   i/n |   |i/n - Xi| |   |Xi - (i-1)/n| |\n",
            "+=====+=======+=======+==============+==================+\n",
            "|   1 | 0.007 |  0.04 |        0.033 |            0.007 |\n",
            "+-----+-------+-------+--------------+------------------+\n",
            "|   2 | 0.048 |  0.08 |        0.032 |            0.008 |\n",
            "+-----+-------+-------+--------------+------------------+\n",
            "|   3 | 0.086 |  0.12 |        0.034 |            0.006 |\n",
            "+-----+-------+-------+--------------+------------------+\n",
            "|   4 | 0.157 |  0.16 |        0.003 |            0.037 |\n",
            "+-----+-------+-------+--------------+------------------+\n",
            "|   5 | 0.166 |  0.2  |        0.034 |            0.006 |\n",
            "+-----+-------+-------+--------------+------------------+\n",
            "|   6 | 0.178 |  0.24 |        0.062 |            0.022 |\n",
            "+-----+-------+-------+--------------+------------------+\n",
            "|   7 | 0.199 |  0.28 |        0.081 |            0.041 |\n",
            "+-----+-------+-------+--------------+------------------+\n",
            "|   8 | 0.298 |  0.32 |        0.022 |            0.018 |\n",
            "+-----+-------+-------+--------------+------------------+\n",
            "|   9 | 0.362 |  0.36 |        0.002 |            0.042 |\n",
            "+-----+-------+-------+--------------+------------------+\n",
            "|  10 | 0.368 |  0.4  |        0.032 |            0.008 |\n",
            "+-----+-------+-------+--------------+------------------+\n",
            "|  11 | 0.401 |  0.44 |        0.039 |            0.001 |\n",
            "+-----+-------+-------+--------------+------------------+\n",
            "|  12 | 0.411 |  0.48 |        0.069 |            0.029 |\n",
            "+-----+-------+-------+--------------+------------------+\n",
            "|  13 | 0.437 |  0.52 |        0.083 |            0.043 |\n",
            "+-----+-------+-------+--------------+------------------+\n",
            "|  14 | 0.478 |  0.56 |        0.082 |            0.042 |\n",
            "+-----+-------+-------+--------------+------------------+\n",
            "|  15 | 0.533 |  0.6  |        0.067 |            0.027 |\n",
            "+-----+-------+-------+--------------+------------------+\n",
            "|  16 | 0.545 |  0.64 |        0.095 |            0.055 |\n",
            "+-----+-------+-------+--------------+------------------+\n",
            "|  17 | 0.551 |  0.68 |        0.129 |            0.089 |\n",
            "+-----+-------+-------+--------------+------------------+\n",
            "|  18 | 0.591 |  0.72 |        0.129 |            0.089 |\n",
            "+-----+-------+-------+--------------+------------------+\n",
            "|  19 | 0.594 |  0.76 |        0.166 |            0.126 |\n",
            "+-----+-------+-------+--------------+------------------+\n",
            "|  20 | 0.631 |  0.8  |        0.169 |            0.129 |\n",
            "+-----+-------+-------+--------------+------------------+\n",
            "|  21 | 0.772 |  0.84 |        0.068 |            0.028 |\n",
            "+-----+-------+-------+--------------+------------------+\n",
            "|  22 | 0.787 |  0.88 |        0.093 |            0.053 |\n",
            "+-----+-------+-------+--------------+------------------+\n",
            "|  23 | 0.926 |  0.92 |        0.006 |            0.046 |\n",
            "+-----+-------+-------+--------------+------------------+\n",
            "|  24 | 0.932 |  0.96 |        0.028 |            0.012 |\n",
            "+-----+-------+-------+--------------+------------------+\n",
            "|  25 | 0.951 |  1    |        0.049 |            0.009 |\n",
            "+-----+-------+-------+--------------+------------------+\n",
            "\n",
            "Analisis de datos:\n",
            "\n",
            "+------------+-------+-------+-----------------+-----------------+\n",
            "|            |    D+ |    D- |   Max{ D+, D- } |   Valor critico |\n",
            "+============+=======+=======+=================+=================+\n",
            "| Resultados | 0.169 | 0.129 |           0.169 |        0.264041 |\n",
            "+------------+-------+-------+-----------------+-----------------+\n",
            "\n",
            " \u001b[1mNo rechazar H0\u001b[1m\n"
          ]
        }
      ],
      "source": [
        "from tabulate import tabulate\n",
        "from matplotlib import pyplot as plt\n",
        "import numpy as np\n",
        "import scipy.stats as stats\n",
        "\n",
        "x=[0.048, 0.591, 0.478, 0.166, 0.932,0.926, 0.007, 0.551, 0.362, 0.533,0.368, 0.437, 0.178, 0.411, 0.545,0.787, 0.594, 0.086, 0.951, 0.772,0.298, 0.199, 0.157, 0.401, 0.631]\n",
        "x.sort()        # Ordena los datos de menor a mayor\n",
        "n = len(x)      # Calcula la magnitud del vector, es decir, la cantidad de datos\n",
        "d = []          # Lista que añade los datos para imprimirlos en una tabla\n",
        "D_mas = []      # Lista que almacena los valores para determinar D+\n",
        "D_menos = []    # Lista que almacena los valores para determinar D-\n",
        "alpha = 0.05\n",
        "resultados = [] #Lista que almacena las conclusiones o el analisis para definir el nivel de rechazo\n",
        "\n",
        "def valor_critico_ks(alpha, n):\n",
        "    # Calcula el valor crítico para la prueba de Kolmogorov-Smirnov\n",
        "    return stats.kstwo.ppf(1 - alpha, n)\n",
        "\n",
        "for i in range(n):\n",
        "  i_n=(i+1)/n\n",
        "  i1n=i/n\n",
        "  dmas=abs(i_n-x[i])    # Calcula los valores para determinar D+\n",
        "  dmenos=abs(x[i]-i1n)      # Calcula los valores para determinar D-\n",
        "  d.append([i+1,x[i],i_n,dmas,dmenos])      #Añade los datos [\"i\", \"Xi\", \"i/n\" ,\"|i/n - Xi|\", \"|Xi - (i-1)/n|\"]\n",
        "  D_mas.append(dmas)            # Añade los datos para determinar D+\n",
        "  D_menos.append(dmenos)        # Añade los datos para determinar D-\n",
        "\n",
        "maximo_Dmas = np.max(D_mas)       # Calcula D+\n",
        "maximo_Dmenos = np.max(D_menos)       # Calcula D-\n",
        "maximo_final = max(maximo_Dmas, maximo_Dmenos)      # Calcula el maximo valor de D+, D-\n",
        "\n",
        "def Nivel_de_Aceptacion(valor_critico, maximo_final):\n",
        "    if valor_critico < maximo_final:              # Evalua el valor critico y el valor estadistico\n",
        "        print(\"\\n \\033[1mRechazar H0\\033[1m\")\n",
        "    else:\n",
        "        print(\"\\n \\033[1mNo rechazar H0\\033[1m\")\n",
        "\n",
        "valor_critico = valor_critico_ks(alpha, n)      # Calcula el valor critico\n",
        "\n",
        "resultados.append([\"Resultados\",maximo_Dmas,maximo_Dmenos,max(maximo_Dmas, maximo_Dmenos),valor_critico])     # Almacena los datos del analisis final\n",
        "\n",
        "# Mostrar tabla\n",
        "print(\"\\033[1m''PRUEBA DE KOLMOGOROV SMIRNOV'' \\033[1m \\n\\n \")\n",
        "encabezados = [\"i\", \"Xi\", \"i/n\" ,\"|i/n - Xi|\", \"|Xi - (i-1)/n|\"]\n",
        "print(tabulate(d, headers=encabezados, tablefmt=\"grid\"))\n",
        "print(\"\\nAnalisis de datos:\\n\")\n",
        "encabezados_1 = [\"\", \"D+\", \"D-\",\"Max{ D+, D- }\",\"Valor critico\",\"Se rechaza H0\"]\n",
        "print(tabulate(resultados, headers=encabezados_1, tablefmt=\"grid\"))\n",
        "\n",
        "Nivel_de_Aceptacion(valor_critico, maximo_final)"
      ]
    },
    {
      "cell_type": "code",
      "source": [],
      "metadata": {
        "id": "HDOmogoV_g8Q"
      },
      "execution_count": null,
      "outputs": []
    }
  ]
}