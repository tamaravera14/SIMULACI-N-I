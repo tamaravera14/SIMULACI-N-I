{
  "nbformat": 4,
  "nbformat_minor": 0,
  "metadata": {
    "colab": {
      "provenance": [],
      "authorship_tag": "ABX9TyOeBYW7/1J2VLvxBa5fBr0d",
      "include_colab_link": true
    },
    "kernelspec": {
      "name": "python3",
      "display_name": "Python 3"
    },
    "language_info": {
      "name": "python"
    }
  },
  "cells": [
    {
      "cell_type": "markdown",
      "metadata": {
        "id": "view-in-github",
        "colab_type": "text"
      },
      "source": [
        "<a href=\"https://colab.research.google.com/github/tamaravera14/SIMULACI-N-I/blob/main/Metodo_de_aceptacion_y_rechazo_TABV.ipynb\" target=\"_parent\"><img src=\"https://colab.research.google.com/assets/colab-badge.svg\" alt=\"Open In Colab\"/></a>"
      ]
    },
    {
      "cell_type": "markdown",
      "source": [
        "# Método de aceptación y rechazo\n",
        "## DISTRIBUCIÓN TRIANGULAR\n",
        "### Tamara Alheli Bazaldua Vera"
      ],
      "metadata": {
        "id": "vYrxA1R2nGix"
      }
    },
    {
      "cell_type": "markdown",
      "source": [
        "**Debe tener un máximo (M) y estar acotada ( [a,b] ).**"
      ],
      "metadata": {
        "id": "6YmFrArFnH6b"
      }
    },
    {
      "cell_type": "markdown",
      "source": [
        "---\n",
        "**PASOS:**\n",
        "1. Generar dos números aleatorios $R_1, R_2$.\n",
        "2. Determinar x:\n",
        "$$x = a + (b-a) R_1$$\n",
        "3. Evaluar $f$ en $x$.\n",
        "4. Si:\n",
        "$$\n",
        "\\begin{cases}\n",
        "\\text{Aceptar x, si}  &  R_2 \\leq \\frac{f(x)}{M}\\\\\n",
        "\\text{Rechazar x, si} & \\text{otro caso}\n",
        "\\end{cases} $$\n",
        "\n",
        "**Nota: A mayor M, menor aceptación.**\n",
        "\n",
        "---"
      ],
      "metadata": {
        "id": "fAOkeBGdnJkE"
      }
    },
    {
      "cell_type": "markdown",
      "source": [
        "Al tener la restricción de $ \\frac{f(x)}{M}$, es **menos eficaz** que el de transformada inversa."
      ],
      "metadata": {
        "id": "zT6uMv8JnLfU"
      }
    },
    {
      "cell_type": "markdown",
      "source": [
        "**Ejercicio:**"
      ],
      "metadata": {
        "id": "IQGKhq3knOzI"
      }
    },
    {
      "cell_type": "markdown",
      "source": [
        "Sea la funcion:\n",
        "$$ f(x) =\n",
        "\\begin{cases}\n",
        "\\frac{2(x-a)}{(c-a)(b-a)} & \\text{si } a \\leq x \\leq b \\\\\n",
        "\\frac{2(c-x)}{(c-a)(b-c)} & \\text{si } b < x \\leq c\n",
        "\\end{cases} $$\n",
        "Calculando la $F(x)$, tenemos:\n",
        "$$ F(x) = \\begin{cases}\n",
        "\\frac{(x-a)^2}{(c-a)(b-a)} & \\text{si } a \\leq x \\leq b \\\\\n",
        "1 - \\frac{(c-x)^2}{(c-a)(b-c)} & \\text{si } b < x \\leq c\n",
        "\\end{cases} $$\n",
        "\n",
        "---\n",
        "Con:\n",
        "$$\\mu_x = \\frac{a+b+c}{3}$$\n",
        "$$\\sigma_{x}^2 = \\frac{a^2+b^2+c^2-ab-ac-bc}{18}$$\n",
        "\n",
        "---"
      ],
      "metadata": {
        "id": "MWn0wTo2nQ6S"
      }
    },
    {
      "cell_type": "markdown",
      "source": [
        "Librerias a usar"
      ],
      "metadata": {
        "id": "Sw6HZIqCotBw"
      }
    },
    {
      "cell_type": "code",
      "execution_count": 4,
      "metadata": {
        "id": "nLPIm1GNjGTi"
      },
      "outputs": [],
      "source": [
        "import random as rd\n",
        "import matplotlib.pyplot as plt\n",
        "import numpy as np\n",
        "import math"
      ]
    },
    {
      "cell_type": "markdown",
      "source": [
        "Declaracion de variables globales"
      ],
      "metadata": {
        "id": "4SNkbANvowg4"
      }
    },
    {
      "cell_type": "code",
      "source": [
        "a = 1\n",
        "b = 3\n",
        "c = 5\n",
        "M = 2/(c-a)\n",
        "mu = (a+b+c)/3\n",
        "sigma = ((a**2+b**2+c**2-a*b-a*c-b*c)/18)\n",
        "n = 100000"
      ],
      "metadata": {
        "id": "CETYpK18kIcd"
      },
      "execution_count": 12,
      "outputs": []
    },
    {
      "cell_type": "markdown",
      "source": [
        "Funcion $f(x)$ a utilizar"
      ],
      "metadata": {
        "id": "fQe14_Nbo0bF"
      }
    },
    {
      "cell_type": "code",
      "source": [
        "def f(x):\n",
        "  if a <= x <= b:\n",
        "    return (2*(x-a))/((c-a)*(b-a))\n",
        "  elif b < x <= c:\n",
        "    return (2*(c-x))/((c-a)*(c-b))\n",
        "  else:\n",
        "    return 0"
      ],
      "metadata": {
        "id": "nBnFPCRojOfU"
      },
      "execution_count": 13,
      "outputs": []
    },
    {
      "cell_type": "markdown",
      "source": [
        "Función del experimento con el ***Método de aceptación y rechazo***"
      ],
      "metadata": {
        "id": "b25SaVr0o8z7"
      }
    },
    {
      "cell_type": "code",
      "source": [
        "def aceptacion(n):\n",
        "  lista = []\n",
        "  for _ in range(n):\n",
        "    R1 = rd.random()\n",
        "    R2 = rd.random()\n",
        "    x = (c-a)*R1 + a\n",
        "    if R2 <= f(x)/M:\n",
        "      lista.append(x)\n",
        "  return lista"
      ],
      "metadata": {
        "id": "jETq58CvkNY3"
      },
      "execution_count": 14,
      "outputs": []
    },
    {
      "cell_type": "markdown",
      "source": [
        "Asigancion de la lista de los valores obtenidos para x"
      ],
      "metadata": {
        "id": "tHzUmKRdpG-N"
      }
    },
    {
      "cell_type": "code",
      "source": [
        "metodo = aceptacion(n)"
      ],
      "metadata": {
        "id": "Q4RSKv_Wko1k"
      },
      "execution_count": 15,
      "outputs": []
    },
    {
      "cell_type": "markdown",
      "source": [
        "Grafica del histograma con los valores obtenidos, debe ser similar a $f(x)$"
      ],
      "metadata": {
        "id": "80dypDo5pMJP"
      }
    },
    {
      "cell_type": "code",
      "source": [
        "plt.hist(metodo, bins=50)\n",
        "plt.show()"
      ],
      "metadata": {
        "colab": {
          "base_uri": "https://localhost:8080/",
          "height": 430
        },
        "id": "5yGLcqNUkx4E",
        "outputId": "b4c0c9c6-c997-44bc-ffa2-72a6e45b1e2f"
      },
      "execution_count": 16,
      "outputs": [
        {
          "output_type": "display_data",
          "data": {
            "text/plain": [
              "<Figure size 640x480 with 1 Axes>"
            ],
            "image/png": "[encoded data removed]"
          },
          "metadata": {}
        }
      ]
    },
    {
      "cell_type": "markdown",
      "source": [
        "**Calculo de la media estimada y comparacion con la real.**"
      ],
      "metadata": {
        "id": "RYQbEYAppVWd"
      }
    },
    {
      "cell_type": "code",
      "source": [
        "print(\"Media estimada: \", np.mean(metodo))\n",
        "print(\"Media exacta: \", mu)\n",
        "print(\"Error de media con respecto a la real:\", abs(mu-np.mean(metodo)))"
      ],
      "metadata": {
        "colab": {
          "base_uri": "https://localhost:8080/"
        },
        "id": "Vhfry-Y8lLa2",
        "outputId": "7ba1ec8c-4d43-4278-95a9-9827514622ec"
      },
      "execution_count": 17,
      "outputs": [
        {
          "output_type": "stream",
          "name": "stdout",
          "text": [
            "Media estimada:  2.9985054393604655\n",
            "Media exacta:  3.0\n",
            "Error de media con respecto a la real: 0.001494560639534459\n"
          ]
        }
      ]
    },
    {
      "cell_type": "markdown",
      "source": [
        "**Calculo de la varianza estimada y comparacion con la real.**"
      ],
      "metadata": {
        "id": "Xij6yDzdpivt"
      }
    },
    {
      "cell_type": "code",
      "source": [
        "print(\"Varianza estimada: \", np.var(metodo))\n",
        "print(\"Varianza exacta: \", sigma)\n",
        "print(\"Error de varianza con respecto a la real:\", abs(sigma-np.var(metodo)))"
      ],
      "metadata": {
        "colab": {
          "base_uri": "https://localhost:8080/"
        },
        "id": "dSjkBioBlaGH",
        "outputId": "04619932-ac38-4e06-8548-cceb7764e497"
      },
      "execution_count": 18,
      "outputs": [
        {
          "output_type": "stream",
          "name": "stdout",
          "text": [
            "Varianza estimada:  0.6662362364271005\n",
            "Varianza exacta:  0.6666666666666666\n",
            "Error de varianza con respecto a la real: 0.00043043023956612636\n"
          ]
        }
      ]
    },
    {
      "cell_type": "markdown",
      "source": [
        "**Periodo de aceptación es decir de la cantidad de elementos generados, solo fueron admitidos una parte.**"
      ],
      "metadata": {
        "id": "JJBvBis-pfOn"
      }
    },
    {
      "cell_type": "code",
      "source": [
        "print(\"Periodo de aceptacion: \", len(metodo), \"de\", n)"
      ],
      "metadata": {
        "colab": {
          "base_uri": "https://localhost:8080/"
        },
        "id": "iErAkZ0KmifA",
        "outputId": "b9cfbfcb-484d-4475-a5ba-5af0bd1ba702"
      },
      "execution_count": 20,
      "outputs": [
        {
          "output_type": "stream",
          "name": "stdout",
          "text": [
            "Periodo de aceptacion:  50140 de 100000\n"
          ]
        }
      ]
    }
  ]
}