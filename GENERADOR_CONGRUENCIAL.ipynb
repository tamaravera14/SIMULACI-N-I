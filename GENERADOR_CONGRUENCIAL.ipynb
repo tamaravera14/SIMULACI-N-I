{
  "nbformat": 4,
  "nbformat_minor": 0,
  "metadata": {
    "colab": {
      "provenance": [],
      "authorship_tag": "ABX9TyPXXUU7ibE5ZHjx/lWEBRld",
      "include_colab_link": true
    },
    "kernelspec": {
      "name": "python3",
      "display_name": "Python 3"
    },
    "language_info": {
      "name": "python"
    }
  },
  "cells": [
    {
      "cell_type": "markdown",
      "metadata": {
        "id": "view-in-github",
        "colab_type": "text"
      },
      "source": [
        "<a href=\"https://colab.research.google.com/github/tamaravera14/SIMULACI-N-I/blob/main/GENERADOR_CONGRUENCIAL.ipynb\" target=\"_parent\"><img src=\"https://colab.research.google.com/assets/colab-badge.svg\" alt=\"Open In Colab\"/></a>"
      ]
    },
    {
      "cell_type": "markdown",
      "source": [
        "---\n",
        "## Bazaldua Vera Tamara Alheli\n",
        "---"
      ],
      "metadata": {
        "id": "SQYUomskiaV6"
      }
    },
    {
      "cell_type": "markdown",
      "source": [
        "# GENERADOR CONGRUENCIAL"
      ],
      "metadata": {
        "id": "3gvMPwzVh1Ru"
      }
    },
    {
      "cell_type": "markdown",
      "source": [
        "Elaborar un programa que implemente el metodo del GENERADOR CONGRUENCIAL.\n"
      ],
      "metadata": {
        "id": "AIwpHPh3i7LX"
      }
    },
    {
      "cell_type": "markdown",
      "source": [
        "---\n",
        "La mayoría de generadores de números aleatorios que se usan actualmente son casos especiales del generador propuesto por D. H. Lehmer, en el cual se escogen 4 números mágicos del conjunto de los números enteros no negativos así: **X_(j+1)=(a (x_j) + c)mod(m)**"
      ],
      "metadata": {
        "id": "Xrl0Qowzjp_D"
      }
    },
    {
      "cell_type": "markdown",
      "source": [
        "\n",
        "\n",
        "---\n",
        "\n",
        "\n",
        "X_0: Valor inicial o semilla, X_0>=0\n",
        "\n",
        "---\n",
        "\n",
        "\n",
        "a: El multiplicador, a>=0\n",
        "\n",
        "---\n",
        "\n",
        "\n",
        "c: El incremento, c>=0\n",
        "\n",
        "---\n",
        "\n",
        "\n",
        "m: El módulo, m>X_0, m>a, m>c\n",
        "\n",
        "---\n",
        "\n"
      ],
      "metadata": {
        "id": "f0vnGvluAt2A"
      }
    },
    {
      "cell_type": "markdown",
      "source": [
        "---\n",
        "![FORMULAGENERADOR.jpeg](data:image/jpeg;base64,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)\n",
        "\n",
        "---\n",
        "\n"
      ],
      "metadata": {
        "id": "jLBqMGq1-P3M"
      }
    },
    {
      "cell_type": "markdown",
      "source": [
        "Los números generados corresponden siempre a el residuo de la división de (aX_j, c) entre m, por lo que los posibles valores que se obtendrán son 0, 1, 2, ..., m-2, m-1. Lo anterior indica que los números de la sucesión son completamente determinísticos. **La aleatoriedad está asociada con el orden de aparición de éstos dentro de la secuencia**. Para un valor fijo del módulo m, dicho orden depende de los tres números mágicos restantes, a saber: a, c y X_0."
      ],
      "metadata": {
        "id": "r0yEsJCrBGEJ"
      }
    },
    {
      "cell_type": "markdown",
      "source": [
        "Al dividir los números de la sucesión **X entre el módulo m obtenemos  números aleatorios estandarizados** en el intervalo R=X/m en [0,1), los cuales, mediante m métodos de transformación, como la transformada inversa, permiten la generación de valores para las variables aleatorias usadas para el modelamiento de sistemas estocásticos."
      ],
      "metadata": {
        "id": "OUWhxGi0ETGy"
      }
    },
    {
      "cell_type": "markdown",
      "source": [
        "La semilla X_0, vuelve a aparecer luego de una serie de iteraciones, y genera un ciclo de números que se repite indefinidamente. Esta propiedad es común para todas las secuencias que tienen la forma X_(j+1) = f (X_j). El **ciclo repetitivo origina el período de la sucesión**, el cual corresponde al número de términos diferentes generados en la secuencia, y su longitud se denota por λ(m)"
      ],
      "metadata": {
        "id": "dTwZSoAHB7uQ"
      }
    },
    {
      "cell_type": "markdown",
      "source": [
        "Algunas sucesiones se degeneran, esto es, el primer valor en repetirs secuencia no siempre es la semilla, esto ocurre cuando a y m no son primos relativos.\n",
        "\n",
        "---\n",
        "\n"
      ],
      "metadata": {
        "id": "pSWJZJpsCU6H"
      }
    },
    {
      "cell_type": "markdown",
      "source": [
        "---\n",
        "## CRITERIOS DE SELECCIÓN DE LOS NÚMEROS\n",
        "\n",
        "---\n",
        "\n"
      ],
      "metadata": {
        "id": "S7t4TIvkC5PB"
      }
    },
    {
      "cell_type": "markdown",
      "source": [
        "---\n",
        "\n",
        "\n",
        "\n",
        "1.   La selección de **a** debe ser un número entero impar **no divisible** entre **3** o **5**, para lograr un **ciclo de vido completo**.\n",
        "2.   La selección de **c**:\n",
        "\n",
        "    *   Sistema es binario:  c mod 8 = 5\n",
        "    *   Sistema es decimal:  c mod 200 = 21\n",
        "3.  Para **X_0** es irrelevante, lo importante es mantenerla fija.\n",
        "\n",
        "---\n",
        "\n",
        "\n",
        "\n"
      ],
      "metadata": {
        "id": "qqUjPMEDDQfi"
      }
    },
    {
      "cell_type": "markdown",
      "source": [
        "# **CÓDIGO DE GENERADOR CONGRUENCIAL EN PYTHON**"
      ],
      "metadata": {
        "id": "rdBsP1gzFpJR"
      }
    },
    {
      "cell_type": "markdown",
      "source": [
        "Estas son las librerias que se van a utilizar:"
      ],
      "metadata": {
        "id": "Iz3TZlrqj0DH"
      }
    },
    {
      "cell_type": "code",
      "source": [
        "from tabulate import tabulate\n",
        "from matplotlib import pyplot as plt\n",
        "import numpy as np"
      ],
      "metadata": {
        "id": "ECOCFEcchf5e"
      },
      "execution_count": null,
      "outputs": []
    },
    {
      "cell_type": "markdown",
      "source": [
        "Esta es la cantidad de iteraciones que haremos:"
      ],
      "metadata": {
        "id": "NXOWmOyHj2ny"
      }
    },
    {
      "cell_type": "code",
      "source": [
        "n = 125"
      ],
      "metadata": {
        "id": "XtjT14EHg80W"
      },
      "execution_count": null,
      "outputs": []
    },
    {
      "cell_type": "markdown",
      "source": [
        "Definimos la funcion generador(a, c, m, x0) con los parametros antes mencinados en la formula"
      ],
      "metadata": {
        "id": "X90XPclij_zT"
      }
    },
    {
      "cell_type": "code",
      "source": [
        "def generador(a, c, m, x0):\n",
        "    return (a * x0 + c) % m"
      ],
      "metadata": {
        "id": "_eDgDE4Yg_Hq"
      },
      "execution_count": null,
      "outputs": []
    },
    {
      "cell_type": "markdown",
      "source": [
        "Son los datos que vamos a usar para la funcion **generador**"
      ],
      "metadata": {
        "id": "ZlDDCQ6ckTHu"
      }
    },
    {
      "cell_type": "code",
      "source": [
        "a = 81\n",
        "c = 89\n",
        "m = 10**2\n",
        "x0 = 5"
      ],
      "metadata": {
        "id": "PfPjKOiAhC8B"
      },
      "execution_count": null,
      "outputs": []
    },
    {
      "cell_type": "markdown",
      "source": [
        "Inicializamos las listas a utilizar para nuestros datos a almacenar:"
      ],
      "metadata": {
        "id": "fGfxdQc9kkvh"
      }
    },
    {
      "cell_type": "code",
      "source": [
        "x = []\n",
        "xn = [0 for i in range(n)]"
      ],
      "metadata": {
        "id": "EkpCN8srkjxe"
      },
      "execution_count": null,
      "outputs": []
    },
    {
      "cell_type": "markdown",
      "source": [
        "Genero una lista para que almacene las apariciones de los nnumeros para poder determinar el ciclo de vida"
      ],
      "metadata": {
        "id": "UAwjvfCDk6PM"
      }
    },
    {
      "cell_type": "code",
      "source": [
        "# Lista para rastrear las apariciones de cada número\n",
        "apariciones = {}"
      ],
      "metadata": {
        "id": "3uJmaDfthNVi"
      },
      "execution_count": null,
      "outputs": []
    },
    {
      "cell_type": "markdown",
      "source": [
        "Generamos los valores x_j, los valores normalizados x_j/m y comparamos los nuevos x_j con los anteriores para saber si se repiten y poder calcular el ciclo de vida."
      ],
      "metadata": {
        "id": "i6Cm9OrClJYH"
      }
    },
    {
      "cell_type": "code",
      "source": [
        "for i in range(n):\n",
        "    xn[i] = generador(a, c, m, x0)\n",
        "\n",
        "    # Guardamos los valores correctamente en la tabla\n",
        "    x.append([i, x0, x0 / m])\n",
        "\n",
        "    # Verificar si el número ya apareció antes\n",
        "    if x0 in apariciones:\n",
        "        apariciones[x0].append(i)  # Guardamos la iteración en la que reaparece\n",
        "        intervalo = i - apariciones[x0][-2]  # Diferencia entre las dos últimas apariciones\n",
        "    else:\n",
        "        apariciones[x0] = [i]  # Guardamos la primera aparición\n",
        "\n",
        "    x0 = xn[i]  # Actualizar x0 para la siguiente iteración"
      ],
      "metadata": {
        "id": "CVPnOgQChWp9"
      },
      "execution_count": null,
      "outputs": []
    },
    {
      "cell_type": "markdown",
      "source": [
        "Nos imprime el ciclo de vida calculado en la celda anterior"
      ],
      "metadata": {
        "id": "lfcewGK7llCZ"
      }
    },
    {
      "cell_type": "code",
      "source": [
        "print(\"El ciclo de vida es de \", intervalo)"
      ],
      "metadata": {
        "colab": {
          "base_uri": "https://localhost:8080/"
        },
        "id": "4zrtrLZChdQu",
        "outputId": "dc377ec6-8c38-40cd-8334-53868f56db4e"
      },
      "execution_count": null,
      "outputs": [
        {
          "output_type": "stream",
          "name": "stdout",
          "text": [
            "El ciclo de vida es de  100\n"
          ]
        }
      ]
    },
    {
      "cell_type": "markdown",
      "source": [
        "Muestra los datos generados con el metodo de GENERADOR CONGRUENCIAL, y los datos normalizados en una tabla."
      ],
      "metadata": {
        "id": "R2u6eBThlqtY"
      }
    },
    {
      "cell_type": "code",
      "source": [
        "# Mostrar tabla\n",
        "encabezados = [\"n\", \"Xn\", \"Xn/m\"]\n",
        "print(tabulate(x, headers=encabezados, tablefmt=\"grid\"))"
      ],
      "metadata": {
        "colab": {
          "base_uri": "https://localhost:8080/"
        },
        "id": "XiKtczzEhZ_A",
        "outputId": "bc7370f1-ce65-4552-fa0d-1c6e1fb5a526"
      },
      "execution_count": null,
      "outputs": [
        {
          "output_type": "stream",
          "name": "stdout",
          "text": [
            "+-----+------+--------+\n",
            "|   n |   Xn |   Xn/m |\n",
            "+=====+======+========+\n",
            "|   0 |    5 |   0.05 |\n",
            "+-----+------+--------+\n",
            "|   1 |   94 |   0.94 |\n",
            "+-----+------+--------+\n",
            "|   2 |    3 |   0.03 |\n",
            "+-----+------+--------+\n",
            "|   3 |   32 |   0.32 |\n",
            "+-----+------+--------+\n",
            "|   4 |   81 |   0.81 |\n",
            "+-----+------+--------+\n",
            "|   5 |   50 |   0.5  |\n",
            "+-----+------+--------+\n",
            "|   6 |   39 |   0.39 |\n",
            "+-----+------+--------+\n",
            "|   7 |   48 |   0.48 |\n",
            "+-----+------+--------+\n",
            "|   8 |   77 |   0.77 |\n",
            "+-----+------+--------+\n",
            "|   9 |   26 |   0.26 |\n",
            "+-----+------+--------+\n",
            "|  10 |   95 |   0.95 |\n",
            "+-----+------+--------+\n",
            "|  11 |   84 |   0.84 |\n",
            "+-----+------+--------+\n",
            "|  12 |   93 |   0.93 |\n",
            "+-----+------+--------+\n",
            "|  13 |   22 |   0.22 |\n",
            "+-----+------+--------+\n",
            "|  14 |   71 |   0.71 |\n",
            "+-----+------+--------+\n",
            "|  15 |   40 |   0.4  |\n",
            "+-----+------+--------+\n",
            "|  16 |   29 |   0.29 |\n",
            "+-----+------+--------+\n",
            "|  17 |   38 |   0.38 |\n",
            "+-----+------+--------+\n",
            "|  18 |   67 |   0.67 |\n",
            "+-----+------+--------+\n",
            "|  19 |   16 |   0.16 |\n",
            "+-----+------+--------+\n",
            "|  20 |   85 |   0.85 |\n",
            "+-----+------+--------+\n",
            "|  21 |   74 |   0.74 |\n",
            "+-----+------+--------+\n",
            "|  22 |   83 |   0.83 |\n",
            "+-----+------+--------+\n",
            "|  23 |   12 |   0.12 |\n",
            "+-----+------+--------+\n",
            "|  24 |   61 |   0.61 |\n",
            "+-----+------+--------+\n",
            "|  25 |   30 |   0.3  |\n",
            "+-----+------+--------+\n",
            "|  26 |   19 |   0.19 |\n",
            "+-----+------+--------+\n",
            "|  27 |   28 |   0.28 |\n",
            "+-----+------+--------+\n",
            "|  28 |   57 |   0.57 |\n",
            "+-----+------+--------+\n",
            "|  29 |    6 |   0.06 |\n",
            "+-----+------+--------+\n",
            "|  30 |   75 |   0.75 |\n",
            "+-----+------+--------+\n",
            "|  31 |   64 |   0.64 |\n",
            "+-----+------+--------+\n",
            "|  32 |   73 |   0.73 |\n",
            "+-----+------+--------+\n",
            "|  33 |    2 |   0.02 |\n",
            "+-----+------+--------+\n",
            "|  34 |   51 |   0.51 |\n",
            "+-----+------+--------+\n",
            "|  35 |   20 |   0.2  |\n",
            "+-----+------+--------+\n",
            "|  36 |    9 |   0.09 |\n",
            "+-----+------+--------+\n",
            "|  37 |   18 |   0.18 |\n",
            "+-----+------+--------+\n",
            "|  38 |   47 |   0.47 |\n",
            "+-----+------+--------+\n",
            "|  39 |   96 |   0.96 |\n",
            "+-----+------+--------+\n",
            "|  40 |   65 |   0.65 |\n",
            "+-----+------+--------+\n",
            "|  41 |   54 |   0.54 |\n",
            "+-----+------+--------+\n",
            "|  42 |   63 |   0.63 |\n",
            "+-----+------+--------+\n",
            "|  43 |   92 |   0.92 |\n",
            "+-----+------+--------+\n",
            "|  44 |   41 |   0.41 |\n",
            "+-----+------+--------+\n",
            "|  45 |   10 |   0.1  |\n",
            "+-----+------+--------+\n",
            "|  46 |   99 |   0.99 |\n",
            "+-----+------+--------+\n",
            "|  47 |    8 |   0.08 |\n",
            "+-----+------+--------+\n",
            "|  48 |   37 |   0.37 |\n",
            "+-----+------+--------+\n",
            "|  49 |   86 |   0.86 |\n",
            "+-----+------+--------+\n",
            "|  50 |   55 |   0.55 |\n",
            "+-----+------+--------+\n",
            "|  51 |   44 |   0.44 |\n",
            "+-----+------+--------+\n",
            "|  52 |   53 |   0.53 |\n",
            "+-----+------+--------+\n",
            "|  53 |   82 |   0.82 |\n",
            "+-----+------+--------+\n",
            "|  54 |   31 |   0.31 |\n",
            "+-----+------+--------+\n",
            "|  55 |    0 |   0    |\n",
            "+-----+------+--------+\n",
            "|  56 |   89 |   0.89 |\n",
            "+-----+------+--------+\n",
            "|  57 |   98 |   0.98 |\n",
            "+-----+------+--------+\n",
            "|  58 |   27 |   0.27 |\n",
            "+-----+------+--------+\n",
            "|  59 |   76 |   0.76 |\n",
            "+-----+------+--------+\n",
            "|  60 |   45 |   0.45 |\n",
            "+-----+------+--------+\n",
            "|  61 |   34 |   0.34 |\n",
            "+-----+------+--------+\n",
            "|  62 |   43 |   0.43 |\n",
            "+-----+------+--------+\n",
            "|  63 |   72 |   0.72 |\n",
            "+-----+------+--------+\n",
            "|  64 |   21 |   0.21 |\n",
            "+-----+------+--------+\n",
            "|  65 |   90 |   0.9  |\n",
            "+-----+------+--------+\n",
            "|  66 |   79 |   0.79 |\n",
            "+-----+------+--------+\n",
            "|  67 |   88 |   0.88 |\n",
            "+-----+------+--------+\n",
            "|  68 |   17 |   0.17 |\n",
            "+-----+------+--------+\n",
            "|  69 |   66 |   0.66 |\n",
            "+-----+------+--------+\n",
            "|  70 |   35 |   0.35 |\n",
            "+-----+------+--------+\n",
            "|  71 |   24 |   0.24 |\n",
            "+-----+------+--------+\n",
            "|  72 |   33 |   0.33 |\n",
            "+-----+------+--------+\n",
            "|  73 |   62 |   0.62 |\n",
            "+-----+------+--------+\n",
            "|  74 |   11 |   0.11 |\n",
            "+-----+------+--------+\n",
            "|  75 |   80 |   0.8  |\n",
            "+-----+------+--------+\n",
            "|  76 |   69 |   0.69 |\n",
            "+-----+------+--------+\n",
            "|  77 |   78 |   0.78 |\n",
            "+-----+------+--------+\n",
            "|  78 |    7 |   0.07 |\n",
            "+-----+------+--------+\n",
            "|  79 |   56 |   0.56 |\n",
            "+-----+------+--------+\n",
            "|  80 |   25 |   0.25 |\n",
            "+-----+------+--------+\n",
            "|  81 |   14 |   0.14 |\n",
            "+-----+------+--------+\n",
            "|  82 |   23 |   0.23 |\n",
            "+-----+------+--------+\n",
            "|  83 |   52 |   0.52 |\n",
            "+-----+------+--------+\n",
            "|  84 |    1 |   0.01 |\n",
            "+-----+------+--------+\n",
            "|  85 |   70 |   0.7  |\n",
            "+-----+------+--------+\n",
            "|  86 |   59 |   0.59 |\n",
            "+-----+------+--------+\n",
            "|  87 |   68 |   0.68 |\n",
            "+-----+------+--------+\n",
            "|  88 |   97 |   0.97 |\n",
            "+-----+------+--------+\n",
            "|  89 |   46 |   0.46 |\n",
            "+-----+------+--------+\n",
            "|  90 |   15 |   0.15 |\n",
            "+-----+------+--------+\n",
            "|  91 |    4 |   0.04 |\n",
            "+-----+------+--------+\n",
            "|  92 |   13 |   0.13 |\n",
            "+-----+------+--------+\n",
            "|  93 |   42 |   0.42 |\n",
            "+-----+------+--------+\n",
            "|  94 |   91 |   0.91 |\n",
            "+-----+------+--------+\n",
            "|  95 |   60 |   0.6  |\n",
            "+-----+------+--------+\n",
            "|  96 |   49 |   0.49 |\n",
            "+-----+------+--------+\n",
            "|  97 |   58 |   0.58 |\n",
            "+-----+------+--------+\n",
            "|  98 |   87 |   0.87 |\n",
            "+-----+------+--------+\n",
            "|  99 |   36 |   0.36 |\n",
            "+-----+------+--------+\n",
            "| 100 |    5 |   0.05 |\n",
            "+-----+------+--------+\n",
            "| 101 |   94 |   0.94 |\n",
            "+-----+------+--------+\n",
            "| 102 |    3 |   0.03 |\n",
            "+-----+------+--------+\n",
            "| 103 |   32 |   0.32 |\n",
            "+-----+------+--------+\n",
            "| 104 |   81 |   0.81 |\n",
            "+-----+------+--------+\n",
            "| 105 |   50 |   0.5  |\n",
            "+-----+------+--------+\n",
            "| 106 |   39 |   0.39 |\n",
            "+-----+------+--------+\n",
            "| 107 |   48 |   0.48 |\n",
            "+-----+------+--------+\n",
            "| 108 |   77 |   0.77 |\n",
            "+-----+------+--------+\n",
            "| 109 |   26 |   0.26 |\n",
            "+-----+------+--------+\n",
            "| 110 |   95 |   0.95 |\n",
            "+-----+------+--------+\n",
            "| 111 |   84 |   0.84 |\n",
            "+-----+------+--------+\n",
            "| 112 |   93 |   0.93 |\n",
            "+-----+------+--------+\n",
            "| 113 |   22 |   0.22 |\n",
            "+-----+------+--------+\n",
            "| 114 |   71 |   0.71 |\n",
            "+-----+------+--------+\n",
            "| 115 |   40 |   0.4  |\n",
            "+-----+------+--------+\n",
            "| 116 |   29 |   0.29 |\n",
            "+-----+------+--------+\n",
            "| 117 |   38 |   0.38 |\n",
            "+-----+------+--------+\n",
            "| 118 |   67 |   0.67 |\n",
            "+-----+------+--------+\n",
            "| 119 |   16 |   0.16 |\n",
            "+-----+------+--------+\n",
            "| 120 |   85 |   0.85 |\n",
            "+-----+------+--------+\n",
            "| 121 |   74 |   0.74 |\n",
            "+-----+------+--------+\n",
            "| 122 |   83 |   0.83 |\n",
            "+-----+------+--------+\n",
            "| 123 |   12 |   0.12 |\n",
            "+-----+------+--------+\n",
            "| 124 |   61 |   0.61 |\n",
            "+-----+------+--------+\n"
          ]
        }
      ]
    }
  ]
}