{
  "nbformat": 4,
  "nbformat_minor": 0,
  "metadata": {
    "colab": {
      "provenance": [],
      "authorship_tag": "ABX9TyMBFbNWB4PRfpnTDINll0V+",
      "include_colab_link": true
    },
    "kernelspec": {
      "name": "python3",
      "display_name": "Python 3"
    },
    "language_info": {
      "name": "python"
    }
  },
  "cells": [
    {
      "cell_type": "markdown",
      "metadata": {
        "id": "view-in-github",
        "colab_type": "text"
      },
      "source": [
        "<a href=\"https://colab.research.google.com/github/tamaravera14/SIMULACI-N-I/blob/main/Prueba_Chi_Cuadrada.ipynb\" target=\"_parent\"><img src=\"https://colab.research.google.com/assets/colab-badge.svg\" alt=\"Open In Colab\"/></a>"
      ]
    },
    {
      "cell_type": "markdown",
      "source": [
        "#**Prueba Chi-Cuadrada**\n",
        "***Bazaldua Vera Tamara Alheli***"
      ],
      "metadata": {
        "id": "WgFVh6n1VK2S"
      }
    },
    {
      "cell_type": "markdown",
      "source": [
        "---\n",
        "## **Prueba Chi-Cuadrada**\n",
        "---\n",
        "La prueba de bondad de ajuste de **chi-cuadrado** es un método estadístico que se utiliza para determinar qué tan bien se ajusta un conjunto de valores observados a un conjunto de valores esperados. Esta prueba es particularmente útil en análisis de los datos, donde **ayuda a los investigadores a evaluar si la distribución de datos categóricos de muestra coincide con una distribución esperada**.\n",
        "\n",
        "Una prueba de bondad de ajuste de Chi Cuadrada utiliza las siguientes hipótesis nulas y alternativas:\n",
        "\n",
        "\n",
        "*   ***H0: Sigue una distribucion especifica***\n",
        "*   ***H1: NO sigue una distribucion especifica***\n",
        "\n"
      ],
      "metadata": {
        "id": "GMepHbu4VMS9"
      }
    },
    {
      "cell_type": "markdown",
      "source": [
        "---\n",
        "**Proceso:**\n",
        "\n",
        "1. Agrupe los **n** números aleatorios en **k** clases disjuntas de igual amplitud.\n",
        "2. Halle la frecuencia observada de cada clase (**fo**).\n",
        "3. Calcule el estadístico:\n",
        "      * ***X^2 = Σ(fo -fe)^2 / fe***\n",
        "\n",
        "Para **n** suficientemente grande este estadístico sigue la distribución X^2 con (**K-1**) grafos de libertad.\n",
        "\n",
        "4. Determine el valor crítico **X^2_(alpha,k-1)** de las tablas para un nivel de confianza (**1-alpha**) y (**k-1**) grados de libertad.\n",
        "\n",
        "---\n",
        "###**Si X^2 > X^2_(aplha,k-1) se rechaza H0**\n",
        "---"
      ],
      "metadata": {
        "id": "XxveQyztYKWb"
      }
    },
    {
      "cell_type": "markdown",
      "source": [
        "###**Ventajas**\n",
        "\n",
        "✔ Fácil de aplicar.\n",
        "\n",
        "      * No requiere cálculos matemáticos complejos, y las fórmulas son directas.\n",
        "      * Se basa en tablas de frecuencias, lo que la hace intuitiva.\n",
        "\n",
        "✔ No requiere que los datos sean numéricos continuos.\n",
        "\n",
        "      * Funciona bien con datos categóricos (ejemplo: encuestas, colores, tipos de productos).\n",
        "      * Puede utilizarse en análisis de independencia entre variables cualitativas.\n",
        "\n",
        "✔ Amplia aplicación\n",
        "\n",
        "      * Se usa en bondad de ajuste (para verificar si una muestra sigue una distribución esperada).\n",
        "      * Se usa en pruebas de independencia (para determinar si dos variables están relacionadas).\n",
        "\n",
        "✔ Es útil para grandes muestras\n",
        "\n",
        "      * Es más precisa y confiable cuando el tamaño de la muestra es grande (**n>30**).\n",
        "\n",
        "✔ Puede aplicarse a más de dos categorías\n",
        "\n",
        "---\n",
        "\n",
        "###**Desventajas**\n",
        "\n",
        "✘ No funciona bien con muestras pequeñas\n",
        "\n",
        "      * Si una celda tiene una frecuencia esperada menor a 5, los resultados pueden ser inexactos.\n",
        "\n",
        "✘ No mide causalidad\n",
        "\n",
        "      * Solo indica si existe asociación entre variables, pero no prueba que una variable cause la otra.\n",
        "\n",
        "✘ Sensibilidad a datos grandes\n",
        "\n",
        "      * En muestras muy grandes, diferencias insignificantes pueden resultar significativas, lo que puede llevar a interpretaciones erróneas.\n",
        "\n",
        "✘ Supone independencia de los datos\n",
        "\n",
        "      * Si los datos están correlacionados o dependen unos de otros, la prueba puede arrojar resultados incorrectos."
      ],
      "metadata": {
        "id": "fyZ-PSmBaLL8"
      }
    },
    {
      "cell_type": "markdown",
      "source": [
        "---\n",
        "###**Código:**\n",
        "---\n",
        "\n",
        "*   ***H0: Sigue una distribucion uniforme U(0,1)***\n",
        "*   ***H1: NO sigue una distribucion uniforme U(0,1)***\n",
        "---"
      ],
      "metadata": {
        "id": "OFQjes3kcQ1O"
      }
    },
    {
      "cell_type": "code",
      "execution_count": 1,
      "metadata": {
        "colab": {
          "base_uri": "https://localhost:8080/"
        },
        "id": "8DQLjLayU23i",
        "outputId": "5fc16289-9c60-4f27-fb74-8ffcd061a55d"
      },
      "outputs": [
        {
          "output_type": "stream",
          "name": "stdout",
          "text": [
            "\n",
            "\u001b[1m''PRUEBA DE CHI CUADRADA'' \u001b[1m \n",
            " \n",
            "+----------------+----------------------------+----------------------------+---------+----------------+\n",
            "| Clases         |   Frecuencia Obtenida (fo) |   Frecuencia Esperada (fe) |   fo-fe |   (fo-fe)^2/fe |\n",
            "+================+============================+============================+=========+================+\n",
            "| [0.000, 0.200) |                          7 |                          5 |       2 |            0.8 |\n",
            "+----------------+----------------------------+----------------------------+---------+----------------+\n",
            "| [0.200, 0.400) |                          3 |                          5 |      -2 |            0.8 |\n",
            "+----------------+----------------------------+----------------------------+---------+----------------+\n",
            "| [0.400, 0.600) |                          9 |                          5 |       4 |            3.2 |\n",
            "+----------------+----------------------------+----------------------------+---------+----------------+\n",
            "| [0.600, 0.800) |                          3 |                          5 |      -2 |            0.8 |\n",
            "+----------------+----------------------------+----------------------------+---------+----------------+\n",
            "| [0.800, 1.000) |                          3 |                          5 |      -2 |            0.8 |\n",
            "+----------------+----------------------------+----------------------------+---------+----------------+\n",
            "\n",
            "Analisis de datos:\n",
            "\n",
            "+------------+--------------+--------------+----------------+-----------------+\n",
            "|            |   Suma de fo |   Suma de fe |   Chi Cuadrada |   Valor critico |\n",
            "+============+==============+==============+================+=================+\n",
            "| Resultados |           25 |           25 |            6.4 |         9.48773 |\n",
            "+------------+--------------+--------------+----------------+-----------------+\n",
            "\n",
            " \u001b[1mNo rechazar H0\u001b[1m\n"
          ]
        }
      ],
      "source": [
        "from tabulate import tabulate\n",
        "import numpy as np\n",
        "import scipy.stats as stats\n",
        "\n",
        "x=[0.048, 0.591, 0.478, 0.166, 0.932,0.926, 0.007, 0.551, 0.362, 0.533,0.368, 0.437, 0.178, 0.411, 0.545,0.787, 0.594, 0.086, 0.951, 0.772,0.298, 0.199, 0.157, 0.401, 0.631]\n",
        "x.sort()\n",
        "n = len(x)\n",
        "alpha = 0.05\n",
        "\n",
        "# Determinar el número de clases utilizando la regla de Sturges\n",
        "num_clases = int(np.floor(1 + 3.322 * np.log10(n)))\n",
        "\n",
        "# Calcular la amplitud de cada clase\n",
        "amplitud = (1 - 0) / num_clases\n",
        "\n",
        "clases = []             # Almacenara los los intervalos de las clases\n",
        "fo = [0]*num_clases     # Almacenara la Frecuencia Observada\n",
        "fe = np.full(num_clases, n / num_clases)       # Almacenara la Frecuencia Esperada de manera constante\n",
        "fo_fe = []               # Almacenara la Frecuencia Observada - Frecuencia Esperada\n",
        "chi = []                 # Almacenara los valores de (fo-fe)^2/fe\n",
        "\n",
        "d = []  # Lista para almacenar los datos para la tabla\n",
        "\n",
        "# Construcción de los intervalos de clase\n",
        "for i in range(num_clases):\n",
        "    limite_inferior = 0 + i * amplitud              # Determina el limite inferior de cada clase\n",
        "    limite_superior = limite_inferior + amplitud    # Determina el limite superior de cada clase\n",
        "    clases.append((limite_inferior, limite_superior))     # Almacena el limite inferior - limite superior de cada clase\n",
        "\n",
        "# Contar la frecuencia observada en cada clase\n",
        "for valor in x:\n",
        "    for i in range(num_clases):\n",
        "        if clases[i][0] <= valor < clases[i][1]:    # Compara los valores de la muestra con los intervalos de cada clase y los va contando para obtener la Frecuencia Observada\n",
        "            fo[i] += 1\n",
        "            break\n",
        "\n",
        "# Calcular fo - fe y el estadístico de Chi-Cuadrado\n",
        "for i in range(num_clases):\n",
        "    fo_fe.append(fo[i] - fe[i])               #  Calcula la Frecuencia Observada - Frecuencia Esperada y lo almacena\n",
        "    chi.append((fo_fe[i] ** 2) / fe[i])       #  Calcula (fo-fe)^2/fe y lo almacena\n",
        "    d.append([f\"[{clases[i][0]:.3f}, {clases[i][1]:.3f})\", fo[i], fe[i], fo_fe[i], chi[i]])     # Añade [\"Clases\", \"Frecuencia Obtenida (fo)\", \"Frecuencia Esperada (fe)\", \"fo-fe\", \"(fo-fe)^2/fe\"]\n",
        "\n",
        "chi_cuadrada = np.sum(chi)        # Calcula el valor estadístico de prueba Chi-Cuadrado\n",
        "k = num_clases - 1                # Grados de libertad\n",
        "valor_critico = stats.chi2.ppf(1 - alpha, k)      # Calcula el valor critico de prueba Chi-Cuadrado\n",
        "\n",
        "def Nivel_de_Aceptacion(valor_critico, chi_cuadrada):\n",
        "    if valor_critico < chi_cuadrada:              # Evalua el valor critico y el valor estadistico\n",
        "        print(\"\\n \\033[1mRechazar H0\\033[1m\")\n",
        "    else:\n",
        "        print(\"\\n \\033[1mNo rechazar H0\\033[1m\")\n",
        "\n",
        "resultados = [[\"Resultados\", np.sum(fo), np.sum(fe), chi_cuadrada, valor_critico]]      # Almacena los datos del analisis final\n",
        "\n",
        "# Mostrar tabla\n",
        "print(\"\\n\\033[1m''PRUEBA DE CHI CUADRADA'' \\033[1m \\n \")\n",
        "encabezados = [\"Clases\", \"Frecuencia Obtenida (fo)\", \"Frecuencia Esperada (fe)\", \"fo-fe\", \"(fo-fe)^2/fe\"]\n",
        "print(tabulate(d, headers=encabezados, tablefmt=\"grid\"))\n",
        "print(\"\\nAnalisis de datos:\\n\")\n",
        "encabezados_1 = [\"\", \"Suma de fo\", \"Suma de fe\", \"Chi Cuadrada\", \"Valor critico\"]\n",
        "print(tabulate(resultados, headers=encabezados_1, tablefmt=\"grid\"))\n",
        "\n",
        "Nivel_de_Aceptacion(valor_critico, chi_cuadrada)"
      ]
    }
  ]
}